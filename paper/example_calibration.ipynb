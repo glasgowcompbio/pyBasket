{
 "cells": [
  {
   "cell_type": "markdown",
   "metadata": {},
   "source": [
    "# Calibration\n",
    "\n",
    "Calibration script following https://github.com/Jin93/CBHM/blob/master/Calibration.R"
   ]
  },
  {
   "cell_type": "code",
   "execution_count": 1,
   "metadata": {},
   "outputs": [],
   "source": [
    "%matplotlib inline\n",
    "\n",
    "%load_ext autoreload\n",
    "%autoreload 2"
   ]
  },
  {
   "cell_type": "code",
   "execution_count": 2,
   "metadata": {},
   "outputs": [],
   "source": [
    "import sys\n",
    "from os.path import exists\n",
    "\n",
    "sys.path.append('..')\n",
    "sys.path.append('.')"
   ]
  },
  {
   "cell_type": "code",
   "execution_count": 3,
   "metadata": {},
   "outputs": [],
   "source": [
    "import numpy as np\n",
    "import pymc as pm\n",
    "import arviz as az\n",
    "from scipy.stats import binom\n",
    "from scipy.stats import norm"
   ]
  },
  {
   "cell_type": "code",
   "execution_count": 4,
   "metadata": {},
   "outputs": [],
   "source": [
    "# Set simulation settings and parameters\n",
    "K = 6 # number of indications\n",
    "alpha = 0.1 # significance level for the test\n",
    "num_sim = 10 # number of simulations per simulation setting\n",
    "Ni = 24 # maximum of total sample size for each indication group\n",
    "Ni1 = 14 # stage-one sample size for each indication group\n",
    "\n",
    "# Initialize matrices to record number of patients and responders in each indication group\n",
    "nik = np.zeros((2, K), dtype=int)\n",
    "rik = np.zeros((2, K))\n",
    "nik[0,:] = Ni1\n",
    "\n",
    "# Set null and target response rates\n",
    "q0 = 0.2 # standard of care (null) response rate\n",
    "q1 = 0.4 # target response rate\n",
    "Qf = 0.05 # probability cut-off for interim analysis"
   ]
  },
  {
   "cell_type": "code",
   "execution_count": 5,
   "metadata": {},
   "outputs": [],
   "source": [
    "# Define PyMC3 model for beta-binomial hierarchical model\n",
    "def beta_binomial_model(n, Y):\n",
    "    assert len(n) == len(Y)\n",
    "    K = len(n)\n",
    "    with pm.Model() as model:\n",
    "        α = pm.Gamma('alpha', alpha=2, beta=0.5)\n",
    "        β = pm.Gamma('beta', alpha=2, beta=0.5)\n",
    "        θ = pm.Beta('mu', alpha=α, beta=β, shape=K)\n",
    "        y = pm.Binomial('y', n=n, p=θ, observed=Y, shape=K)        \n",
    "        return model"
   ]
  },
  {
   "cell_type": "code",
   "execution_count": 6,
   "metadata": {},
   "outputs": [],
   "source": [
    "p0 = np.full(K, q0) # true response rate: set to null rate for all indications (null scenario)\n",
    "posterior_ind = np.zeros((num_sim, K)) # matrix to record posterior probabilities of success for each indication in each simulation"
   ]
  },
  {
   "cell_type": "code",
   "execution_count": 7,
   "metadata": {},
   "outputs": [],
   "source": [
    "draws = 1000\n",
    "tune = 1000\n",
    "chains = 1\n",
    "pbar = False"
   ]
  },
  {
   "cell_type": "code",
   "execution_count": 8,
   "metadata": {},
   "outputs": [
    {
     "name": "stderr",
     "output_type": "stream",
     "text": [
      "Auto-assigning NUTS sampler...\n",
      "Initializing NUTS using jitter+adapt_diag...\n",
      "Sequential sampling (1 chains in 1 job)\n",
      "NUTS: [alpha, beta, mu]\n",
      "Sampling 1 chain for 1_000 tune and 1_000 draw iterations (1_000 + 1_000 draws total) took 2 seconds.\n",
      "Auto-assigning NUTS sampler...\n",
      "Initializing NUTS using jitter+adapt_diag...\n",
      "Sequential sampling (1 chains in 1 job)\n",
      "NUTS: [alpha, beta, mu]\n",
      "Sampling 1 chain for 1_000 tune and 1_000 draw iterations (1_000 + 1_000 draws total) took 2 seconds.\n"
     ]
    },
    {
     "name": "stdout",
     "output_type": "stream",
     "text": [
      "0\n"
     ]
    },
    {
     "name": "stderr",
     "output_type": "stream",
     "text": [
      "Auto-assigning NUTS sampler...\n",
      "Initializing NUTS using jitter+adapt_diag...\n",
      "Sequential sampling (1 chains in 1 job)\n",
      "NUTS: [alpha, beta, mu]\n",
      "Sampling 1 chain for 1_000 tune and 1_000 draw iterations (1_000 + 1_000 draws total) took 2 seconds.\n",
      "Auto-assigning NUTS sampler...\n",
      "Initializing NUTS using jitter+adapt_diag...\n",
      "Sequential sampling (1 chains in 1 job)\n",
      "NUTS: [alpha, beta, mu]\n",
      "Sampling 1 chain for 1_000 tune and 1_000 draw iterations (1_000 + 1_000 draws total) took 2 seconds.\n"
     ]
    },
    {
     "name": "stdout",
     "output_type": "stream",
     "text": [
      "1\n"
     ]
    },
    {
     "name": "stderr",
     "output_type": "stream",
     "text": [
      "Auto-assigning NUTS sampler...\n",
      "Initializing NUTS using jitter+adapt_diag...\n",
      "Sequential sampling (1 chains in 1 job)\n",
      "NUTS: [alpha, beta, mu]\n",
      "Sampling 1 chain for 1_000 tune and 1_000 draw iterations (1_000 + 1_000 draws total) took 2 seconds.\n",
      "Auto-assigning NUTS sampler...\n",
      "Initializing NUTS using jitter+adapt_diag...\n",
      "Sequential sampling (1 chains in 1 job)\n",
      "NUTS: [alpha, beta, mu]\n",
      "Sampling 1 chain for 1_000 tune and 1_000 draw iterations (1_000 + 1_000 draws total) took 2 seconds.\n"
     ]
    },
    {
     "name": "stdout",
     "output_type": "stream",
     "text": [
      "2\n"
     ]
    },
    {
     "name": "stderr",
     "output_type": "stream",
     "text": [
      "Auto-assigning NUTS sampler...\n",
      "Initializing NUTS using jitter+adapt_diag...\n",
      "Sequential sampling (1 chains in 1 job)\n",
      "NUTS: [alpha, beta, mu]\n",
      "Sampling 1 chain for 1_000 tune and 1_000 draw iterations (1_000 + 1_000 draws total) took 2 seconds.\n",
      "Auto-assigning NUTS sampler...\n",
      "Initializing NUTS using jitter+adapt_diag...\n",
      "Sequential sampling (1 chains in 1 job)\n",
      "NUTS: [alpha, beta, mu]\n",
      "Sampling 1 chain for 1_000 tune and 1_000 draw iterations (1_000 + 1_000 draws total) took 2 seconds.\n"
     ]
    },
    {
     "name": "stdout",
     "output_type": "stream",
     "text": [
      "3\n"
     ]
    },
    {
     "name": "stderr",
     "output_type": "stream",
     "text": [
      "Auto-assigning NUTS sampler...\n",
      "Initializing NUTS using jitter+adapt_diag...\n",
      "Sequential sampling (1 chains in 1 job)\n",
      "NUTS: [alpha, beta, mu]\n",
      "Sampling 1 chain for 1_000 tune and 1_000 draw iterations (1_000 + 1_000 draws total) took 2 seconds.\n",
      "Auto-assigning NUTS sampler...\n",
      "Initializing NUTS using jitter+adapt_diag...\n",
      "Sequential sampling (1 chains in 1 job)\n",
      "NUTS: [alpha, beta, mu]\n",
      "Sampling 1 chain for 1_000 tune and 1_000 draw iterations (1_000 + 1_000 draws total) took 2 seconds.\n"
     ]
    },
    {
     "name": "stdout",
     "output_type": "stream",
     "text": [
      "4\n"
     ]
    },
    {
     "name": "stderr",
     "output_type": "stream",
     "text": [
      "Auto-assigning NUTS sampler...\n",
      "Initializing NUTS using jitter+adapt_diag...\n",
      "Sequential sampling (1 chains in 1 job)\n",
      "NUTS: [alpha, beta, mu]\n",
      "Sampling 1 chain for 1_000 tune and 1_000 draw iterations (1_000 + 1_000 draws total) took 2 seconds.\n",
      "Auto-assigning NUTS sampler...\n",
      "Initializing NUTS using jitter+adapt_diag...\n",
      "Sequential sampling (1 chains in 1 job)\n",
      "NUTS: [alpha, beta, mu]\n",
      "Sampling 1 chain for 1_000 tune and 1_000 draw iterations (1_000 + 1_000 draws total) took 2 seconds.\n"
     ]
    },
    {
     "name": "stdout",
     "output_type": "stream",
     "text": [
      "5\n"
     ]
    },
    {
     "name": "stderr",
     "output_type": "stream",
     "text": [
      "Auto-assigning NUTS sampler...\n",
      "Initializing NUTS using jitter+adapt_diag...\n",
      "Sequential sampling (1 chains in 1 job)\n",
      "NUTS: [alpha, beta, mu]\n",
      "Sampling 1 chain for 1_000 tune and 1_000 draw iterations (1_000 + 1_000 draws total) took 2 seconds.\n",
      "Auto-assigning NUTS sampler...\n",
      "Initializing NUTS using jitter+adapt_diag...\n",
      "Sequential sampling (1 chains in 1 job)\n",
      "NUTS: [alpha, beta, mu]\n",
      "Sampling 1 chain for 1_000 tune and 1_000 draw iterations (1_000 + 1_000 draws total) took 2 seconds.\n"
     ]
    },
    {
     "name": "stdout",
     "output_type": "stream",
     "text": [
      "6\n"
     ]
    },
    {
     "name": "stderr",
     "output_type": "stream",
     "text": [
      "Auto-assigning NUTS sampler...\n",
      "Initializing NUTS using jitter+adapt_diag...\n",
      "Sequential sampling (1 chains in 1 job)\n",
      "NUTS: [alpha, beta, mu]\n",
      "Sampling 1 chain for 1_000 tune and 1_000 draw iterations (1_000 + 1_000 draws total) took 2 seconds.\n",
      "Auto-assigning NUTS sampler...\n",
      "Initializing NUTS using jitter+adapt_diag...\n",
      "Sequential sampling (1 chains in 1 job)\n",
      "NUTS: [alpha, beta, mu]\n",
      "Sampling 1 chain for 1_000 tune and 1_000 draw iterations (1_000 + 1_000 draws total) took 2 seconds.\n"
     ]
    },
    {
     "name": "stdout",
     "output_type": "stream",
     "text": [
      "7\n"
     ]
    },
    {
     "name": "stderr",
     "output_type": "stream",
     "text": [
      "Auto-assigning NUTS sampler...\n",
      "Initializing NUTS using jitter+adapt_diag...\n",
      "Sequential sampling (1 chains in 1 job)\n",
      "NUTS: [alpha, beta, mu]\n",
      "Sampling 1 chain for 1_000 tune and 1_000 draw iterations (1_000 + 1_000 draws total) took 2 seconds.\n",
      "Auto-assigning NUTS sampler...\n",
      "Initializing NUTS using jitter+adapt_diag...\n",
      "Sequential sampling (1 chains in 1 job)\n",
      "NUTS: [alpha, beta, mu]\n",
      "Sampling 1 chain for 1_000 tune and 1_000 draw iterations (1_000 + 1_000 draws total) took 2 seconds.\n"
     ]
    },
    {
     "name": "stdout",
     "output_type": "stream",
     "text": [
      "8\n"
     ]
    },
    {
     "name": "stderr",
     "output_type": "stream",
     "text": [
      "Auto-assigning NUTS sampler...\n",
      "Initializing NUTS using jitter+adapt_diag...\n",
      "Sequential sampling (1 chains in 1 job)\n",
      "NUTS: [alpha, beta, mu]\n",
      "Sampling 1 chain for 1_000 tune and 1_000 draw iterations (1_000 + 1_000 draws total) took 2 seconds.\n",
      "Auto-assigning NUTS sampler...\n",
      "Initializing NUTS using jitter+adapt_diag...\n",
      "Sequential sampling (1 chains in 1 job)\n",
      "NUTS: [alpha, beta, mu]\n",
      "Sampling 1 chain for 1_000 tune and 1_000 draw iterations (1_000 + 1_000 draws total) took 2 seconds.\n"
     ]
    },
    {
     "name": "stdout",
     "output_type": "stream",
     "text": [
      "9\n"
     ]
    }
   ],
   "source": [
    "for sim in range(num_sim):\n",
    "    \n",
    "    # Stage 1:\n",
    "    n = nik[0, :]\n",
    "    rik[0,:] = binom.rvs(n=n, p=p0) # generate response data\n",
    "    \n",
    "    Y = rik[0,:]\n",
    "    num_baskets = len(n)\n",
    "    \n",
    "    with beta_binomial_model(n=n, Y=Y) as model:        \n",
    "        trace = pm.sample(draws, tune=tune, chains=chains, progressbar=pbar)\n",
    "        \n",
    "    ## Interim analysis:\n",
    "    stacked = az.extract(trace)        \n",
    "    basket_probs = stacked.mu.values        \n",
    "    posterior = np.zeros(num_baskets)\n",
    "    for k in range(num_baskets):\n",
    "        midpoint = (q0 + q1) / 2\n",
    "        posterior[k] = np.mean(basket_probs[k, :] > midpoint)\n",
    "\n",
    "    ## Futility stop:    \n",
    "    stage2_stop = np.where(posterior < Qf)[0]\n",
    "    stage2_cont = np.where(posterior >= Qf)[0]\n",
    "    nik[1, stage2_cont] = Ni - Ni1 # enroll new patients\n",
    "\n",
    "    # Store posterior of success from interim analysis\n",
    "    posterior_ind[sim, stage2_stop] = posterior[stage2_stop] \n",
    "\n",
    "    # Stage 2:\n",
    "    if len(stage2_cont) > 0:\n",
    "\n",
    "        # generate response data\n",
    "        rik[1, stage2_cont] = binom.rvs(n=nik[1, stage2_cont], p=p0[stage2_cont])\n",
    "        ni = np.sum(nik[:, stage2_cont], axis=0)\n",
    "        Y = np.sum(rik[:, stage2_cont], axis=0)\n",
    "        num_baskets = len(ni)\n",
    "\n",
    "        with beta_binomial_model(n=ni, Y=Y) as model2:\n",
    "            trace2 = pm.sample(draws, tune=tune, chains=chains, progressbar=pbar)\n",
    "\n",
    "        # Final decision\n",
    "        stacked = az.extract(trace2)        \n",
    "        basket_probs = stacked.mu.values        \n",
    "        posterior = np.zeros(num_baskets)\n",
    "        for k in range(num_baskets):\n",
    "            posterior[k] = np.mean(basket_probs[k, :] > q0)\n",
    "\n",
    "        posterior_ind[sim, stage2_cont] = posterior\n",
    "        \n",
    "    print(sim)"
   ]
  },
  {
   "cell_type": "code",
   "execution_count": 11,
   "metadata": {},
   "outputs": [
    {
     "data": {
      "text/plain": [
       "(array([[0.003, 0.028, 0.654, 0.619, 0.876, 0.021],\n",
       "        [0.167, 0.662, 0.944, 0.783, 0.94 , 0.949],\n",
       "        [0.971, 0.436, 0.453, 0.028, 0.976, 0.134],\n",
       "        [0.271, 0.587, 0.772, 0.432, 0.928, 0.012],\n",
       "        [0.046, 0.726, 0.444, 0.426, 0.726, 0.003],\n",
       "        [0.859, 0.277, 0.02 , 0.604, 0.014, 0.02 ],\n",
       "        [0.923, 0.04 , 0.747, 0.435, 0.431, 0.446],\n",
       "        [0.774, 0.773, 0.885, 0.882, 0.65 , 0.653],\n",
       "        [0.28 , 0.415, 0.94 , 0.921, 0.286, 0.841],\n",
       "        [0.356, 0.365, 0.502, 0.214, 0.341, 0.371]]),\n",
       " 0.1)"
      ]
     },
     "execution_count": 11,
     "metadata": {},
     "output_type": "execute_result"
    }
   ],
   "source": [
    "posterior_ind, alpha"
   ]
  },
  {
   "cell_type": "code",
   "execution_count": 14,
   "metadata": {},
   "outputs": [
    {
     "data": {
      "text/plain": [
       "0.9292"
      ]
     },
     "execution_count": 14,
     "metadata": {},
     "output_type": "execute_result"
    }
   ],
   "source": [
    "Q_independent = np.quantile(posterior_ind, 1 - alpha)\n",
    "Q_independent"
   ]
  }
 ],
 "metadata": {
  "kernelspec": {
   "display_name": "Python 3 (ipykernel)",
   "language": "python",
   "name": "python3"
  },
  "language_info": {
   "codemirror_mode": {
    "name": "ipython",
    "version": 3
   },
   "file_extension": ".py",
   "mimetype": "text/x-python",
   "name": "python",
   "nbconvert_exporter": "python",
   "pygments_lexer": "ipython3",
   "version": "3.11.0"
  },
  "vscode": {
   "interpreter": {
    "hash": "05a318a39bdd806c866a458e5513009c97d8e8627387c5b7a048c974669be487"
   }
  }
 },
 "nbformat": 4,
 "nbformat_minor": 4
}
