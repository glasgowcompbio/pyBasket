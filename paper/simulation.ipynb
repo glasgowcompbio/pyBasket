{
 "cells": [
  {
   "cell_type": "code",
   "execution_count": 1,
   "metadata": {
    "ExecuteTime": {
     "end_time": "2023-06-15T12:27:09.303652Z",
     "start_time": "2023-06-15T12:26:49.149158Z"
    },
    "tags": []
   },
   "outputs": [],
   "source": [
    "import numpy as np\n",
    "import pymc as pm\n",
    "import arviz as az\n",
    "\n",
    "from scipy.stats import binom"
   ]
  },
  {
   "cell_type": "code",
   "execution_count": 2,
   "metadata": {
    "ExecuteTime": {
     "end_time": "2023-06-15T12:27:09.315322Z",
     "start_time": "2023-06-15T12:27:09.314043Z"
    },
    "collapsed": false,
    "jupyter": {
     "outputs_hidden": false
    }
   },
   "outputs": [],
   "source": [
    "class BasketTrialSimulator:\n",
    "    def __init__(self, K, alpha, num_sim, Ni, Ni1, q0, q1, Qf, draws, tune, chains, pbar):\n",
    "        self.K = K\n",
    "        self.alpha = alpha\n",
    "        self.num_sim = num_sim\n",
    "        self.Ni = Ni\n",
    "        self.Ni1 = Ni1\n",
    "        self.q0 = q0\n",
    "        self.q1 = q1\n",
    "        self.Qf = Qf\n",
    "        self.draws = draws\n",
    "        self.tune = tune\n",
    "        self.chains = chains\n",
    "        self.pbar = pbar\n",
    "\n",
    "        # Initialize matrices\n",
    "        self.nik = np.zeros((2, self.K), dtype=int)\n",
    "        self.rik = np.zeros((2, self.K))\n",
    "        self.nik[0,:] = self.Ni1\n",
    "        self.p0 = np.full(self.K, self.q0)\n",
    "        self.posterior_ind = np.zeros((self.num_sim, self.K))\n",
    "        self.Q_calibrated = None\n",
    "\n",
    "    def beta_binomial_model(self, n, Y):\n",
    "        assert len(n) == len(Y)\n",
    "        K = len(n)\n",
    "        with pm.Model() as model:\n",
    "            α = pm.Gamma('alpha', alpha=2, beta=0.5)\n",
    "            β = pm.Gamma('beta', alpha=2, beta=0.5)\n",
    "            θ = pm.Beta('mu', alpha=α, beta=β, shape=K)\n",
    "            y = pm.Binomial('y', n=n, p=θ, observed=Y, shape=K)\n",
    "        return model\n",
    "\n",
    "    def generate_data(self, n, p):\n",
    "        return binom.rvs(n=n, p=p)\n",
    "\n",
    "    def calculate_posterior(self, trace, q):\n",
    "        stacked = az.extract(trace)        \n",
    "        basket_probs = stacked.mu.values\n",
    "        posterior = np.zeros(len(basket_probs))\n",
    "        for k in range(len(basket_probs)):\n",
    "            posterior[k] = np.mean(basket_probs[k, :] > q)\n",
    "        return posterior\n",
    "\n",
    "    def calibrate(self):\n",
    "        for sim in range(self.num_sim):\n",
    "            print(sim)\n",
    "            \n",
    "            n = self.nik[0, :]\n",
    "            self.rik[0, :] = self.generate_data(n=n, p=self.p0)  # generate response data\n",
    "\n",
    "            Y = self.rik[0,:]\n",
    "            num_baskets = len(n)\n",
    "\n",
    "            with self.beta_binomial_model(n=n, Y=Y) as model:\n",
    "                trace = pm.sample(self.draws, tune=self.tune, chains=self.chains, progressbar=self.pbar)\n",
    "\n",
    "            ## Interim analysis:\n",
    "            midpoint = (self.q0 + self.q1) / 2\n",
    "            posterior = self.calculate_posterior(trace, midpoint)\n",
    "\n",
    "            ## Futility stop:                    \n",
    "            stage2_stop = np.where(posterior < self.Qf)[0]\n",
    "            stage2_cont = np.where(posterior >= self.Qf)[0]\n",
    "            self.nik[1, stage2_cont] = self.Ni - self.Ni1\n",
    "\n",
    "            # Store posterior of success from interim analysis            \n",
    "            self.posterior_ind[sim, stage2_stop] = posterior[stage2_stop]\n",
    "\n",
    "            # Stage 2:            \n",
    "            if len(stage2_cont) > 0:\n",
    "                \n",
    "                # generate response data                \n",
    "                self.rik[1, stage2_cont] = self.generate_data(n=self.nik[1, stage2_cont], p=self.p0[stage2_cont])\n",
    "                ni = np.sum(self.nik[:, stage2_cont], axis=0)\n",
    "                Y = np.sum(self.rik[:, stage2_cont], axis=0)\n",
    "                num_baskets = len(ni)\n",
    "\n",
    "                with self.beta_binomial_model(n=ni, Y=Y) as model2:\n",
    "                    trace2 = pm.sample(self.draws, tune=self.tune, chains=self.chains, progressbar=self.pbar)\n",
    "\n",
    "                # Final decision\n",
    "                posterior = self.calculate_posterior(trace2, self.q0)\n",
    "\n",
    "                self.posterior_ind[sim, stage2_cont] = posterior\n",
    "\n",
    "        self.Q_calibrated = np.quantile(self.posterior_ind, 1-self.alpha)\n",
    "\n",
    "    def simulate(self):\n",
    "        pass  # Simulation method will be implemented here."
   ]
  },
  {
   "cell_type": "code",
   "execution_count": 3,
   "metadata": {
    "ExecuteTime": {
     "end_time": "2023-06-15T12:27:09.319584Z",
     "start_time": "2023-06-15T12:27:09.315053Z"
    },
    "collapsed": false,
    "jupyter": {
     "outputs_hidden": false
    }
   },
   "outputs": [],
   "source": [
    "# Set simulation settings and parameters\n",
    "K = 6 # number of indications\n",
    "alpha = 0.1 # significance level for the test\n",
    "num_sim = 10 # number of simulations per simulation setting\n",
    "Ni = 24 # maximum of total sample size for each indication group\n",
    "Ni1 = 14 # stage-one sample size for each indication group\n",
    "\n",
    "# Set null and target response rates\n",
    "q0 = 0.2 # standard of care (null) response rate\n",
    "q1 = 0.4 # target response rate\n",
    "Qf = 0.05 # probability cut-off for interim analysis\n",
    "\n",
    "draws = 1000\n",
    "tune = 1000\n",
    "chains = 1\n",
    "pbar = False"
   ]
  },
  {
   "cell_type": "code",
   "execution_count": 4,
   "metadata": {
    "ExecuteTime": {
     "end_time": "2023-06-15T12:27:09.323152Z",
     "start_time": "2023-06-15T12:27:09.321744Z"
    },
    "collapsed": false,
    "jupyter": {
     "outputs_hidden": false
    }
   },
   "outputs": [],
   "source": [
    "trial = BasketTrialSimulator(K, alpha, num_sim, Ni, Ni1, q0, q1, Qf, draws, tune, chains, pbar)"
   ]
  },
  {
   "cell_type": "code",
   "execution_count": 5,
   "metadata": {
    "ExecuteTime": {
     "end_time": "2023-06-15T12:27:22.655596Z",
     "start_time": "2023-06-15T12:27:09.326665Z"
    },
    "collapsed": false,
    "jupyter": {
     "outputs_hidden": false
    }
   },
   "outputs": [
    {
     "name": "stdout",
     "output_type": "stream",
     "text": [
      "0\n"
     ]
    },
    {
     "name": "stderr",
     "output_type": "stream",
     "text": [
      "Auto-assigning NUTS sampler...\n",
      "Initializing NUTS using jitter+adapt_diag...\n",
      "Sequential sampling (1 chains in 1 job)\n",
      "NUTS: [alpha, beta, mu]\n",
      "Sampling 1 chain for 1_000 tune and 1_000 draw iterations (1_000 + 1_000 draws total) took 2 seconds.\n",
      "Auto-assigning NUTS sampler...\n",
      "Initializing NUTS using jitter+adapt_diag...\n",
      "Sequential sampling (1 chains in 1 job)\n",
      "NUTS: [alpha, beta, mu]\n",
      "Sampling 1 chain for 1_000 tune and 1_000 draw iterations (1_000 + 1_000 draws total) took 2 seconds.\n"
     ]
    },
    {
     "name": "stdout",
     "output_type": "stream",
     "text": [
      "1\n"
     ]
    },
    {
     "name": "stderr",
     "output_type": "stream",
     "text": [
      "Auto-assigning NUTS sampler...\n",
      "Initializing NUTS using jitter+adapt_diag...\n",
      "Sequential sampling (1 chains in 1 job)\n",
      "NUTS: [alpha, beta, mu]\n",
      "Sampling 1 chain for 1_000 tune and 1_000 draw iterations (1_000 + 1_000 draws total) took 2 seconds.\n",
      "Auto-assigning NUTS sampler...\n",
      "Initializing NUTS using jitter+adapt_diag...\n",
      "Sequential sampling (1 chains in 1 job)\n",
      "NUTS: [alpha, beta, mu]\n",
      "Sampling 1 chain for 1_000 tune and 1_000 draw iterations (1_000 + 1_000 draws total) took 2 seconds.\n"
     ]
    },
    {
     "name": "stdout",
     "output_type": "stream",
     "text": [
      "2\n"
     ]
    },
    {
     "name": "stderr",
     "output_type": "stream",
     "text": [
      "Auto-assigning NUTS sampler...\n",
      "Initializing NUTS using jitter+adapt_diag...\n",
      "Sequential sampling (1 chains in 1 job)\n",
      "NUTS: [alpha, beta, mu]\n",
      "Sampling 1 chain for 1_000 tune and 1_000 draw iterations (1_000 + 1_000 draws total) took 2 seconds.\n",
      "Auto-assigning NUTS sampler...\n",
      "Initializing NUTS using jitter+adapt_diag...\n",
      "Sequential sampling (1 chains in 1 job)\n",
      "NUTS: [alpha, beta, mu]\n",
      "Sampling 1 chain for 1_000 tune and 1_000 draw iterations (1_000 + 1_000 draws total) took 2 seconds.\n"
     ]
    },
    {
     "name": "stdout",
     "output_type": "stream",
     "text": [
      "3\n"
     ]
    },
    {
     "name": "stderr",
     "output_type": "stream",
     "text": [
      "Auto-assigning NUTS sampler...\n",
      "Initializing NUTS using jitter+adapt_diag...\n",
      "Sequential sampling (1 chains in 1 job)\n",
      "NUTS: [alpha, beta, mu]\n",
      "Sampling 1 chain for 1_000 tune and 1_000 draw iterations (1_000 + 1_000 draws total) took 2 seconds.\n",
      "Auto-assigning NUTS sampler...\n",
      "Initializing NUTS using jitter+adapt_diag...\n",
      "Sequential sampling (1 chains in 1 job)\n",
      "NUTS: [alpha, beta, mu]\n",
      "Sampling 1 chain for 1_000 tune and 1_000 draw iterations (1_000 + 1_000 draws total) took 2 seconds.\n",
      "The acceptance probability does not match the target. It is 0.8806, but should be close to 0.8. Try to increase the number of tuning steps.\n"
     ]
    },
    {
     "name": "stdout",
     "output_type": "stream",
     "text": [
      "4\n"
     ]
    },
    {
     "name": "stderr",
     "output_type": "stream",
     "text": [
      "Auto-assigning NUTS sampler...\n",
      "Initializing NUTS using jitter+adapt_diag...\n",
      "Sequential sampling (1 chains in 1 job)\n",
      "NUTS: [alpha, beta, mu]\n",
      "Sampling 1 chain for 1_000 tune and 1_000 draw iterations (1_000 + 1_000 draws total) took 2 seconds.\n",
      "Auto-assigning NUTS sampler...\n",
      "Initializing NUTS using jitter+adapt_diag...\n",
      "Sequential sampling (1 chains in 1 job)\n",
      "NUTS: [alpha, beta, mu]\n",
      "Sampling 1 chain for 1_000 tune and 1_000 draw iterations (1_000 + 1_000 draws total) took 2 seconds.\n"
     ]
    },
    {
     "name": "stdout",
     "output_type": "stream",
     "text": [
      "5\n"
     ]
    },
    {
     "name": "stderr",
     "output_type": "stream",
     "text": [
      "Auto-assigning NUTS sampler...\n",
      "Initializing NUTS using jitter+adapt_diag...\n",
      "Sequential sampling (1 chains in 1 job)\n",
      "NUTS: [alpha, beta, mu]\n",
      "Sampling 1 chain for 1_000 tune and 1_000 draw iterations (1_000 + 1_000 draws total) took 2 seconds.\n",
      "Auto-assigning NUTS sampler...\n",
      "Initializing NUTS using jitter+adapt_diag...\n",
      "Sequential sampling (1 chains in 1 job)\n",
      "NUTS: [alpha, beta, mu]\n",
      "Sampling 1 chain for 1_000 tune and 1_000 draw iterations (1_000 + 1_000 draws total) took 2 seconds.\n"
     ]
    },
    {
     "name": "stdout",
     "output_type": "stream",
     "text": [
      "6\n"
     ]
    },
    {
     "name": "stderr",
     "output_type": "stream",
     "text": [
      "Auto-assigning NUTS sampler...\n",
      "Initializing NUTS using jitter+adapt_diag...\n",
      "Sequential sampling (1 chains in 1 job)\n",
      "NUTS: [alpha, beta, mu]\n",
      "Sampling 1 chain for 1_000 tune and 1_000 draw iterations (1_000 + 1_000 draws total) took 2 seconds.\n",
      "Auto-assigning NUTS sampler...\n",
      "Initializing NUTS using jitter+adapt_diag...\n",
      "Sequential sampling (1 chains in 1 job)\n",
      "NUTS: [alpha, beta, mu]\n",
      "Sampling 1 chain for 1_000 tune and 1_000 draw iterations (1_000 + 1_000 draws total) took 2 seconds.\n",
      "The acceptance probability does not match the target. It is 0.8954, but should be close to 0.8. Try to increase the number of tuning steps.\n"
     ]
    },
    {
     "name": "stdout",
     "output_type": "stream",
     "text": [
      "7\n"
     ]
    },
    {
     "name": "stderr",
     "output_type": "stream",
     "text": [
      "Auto-assigning NUTS sampler...\n",
      "Initializing NUTS using jitter+adapt_diag...\n",
      "Sequential sampling (1 chains in 1 job)\n",
      "NUTS: [alpha, beta, mu]\n",
      "Sampling 1 chain for 1_000 tune and 1_000 draw iterations (1_000 + 1_000 draws total) took 2 seconds.\n",
      "Auto-assigning NUTS sampler...\n",
      "Initializing NUTS using jitter+adapt_diag...\n",
      "Sequential sampling (1 chains in 1 job)\n",
      "NUTS: [alpha, beta, mu]\n",
      "Sampling 1 chain for 1_000 tune and 1_000 draw iterations (1_000 + 1_000 draws total) took 2 seconds.\n"
     ]
    },
    {
     "name": "stdout",
     "output_type": "stream",
     "text": [
      "8\n"
     ]
    },
    {
     "name": "stderr",
     "output_type": "stream",
     "text": [
      "Auto-assigning NUTS sampler...\n",
      "Initializing NUTS using jitter+adapt_diag...\n",
      "Sequential sampling (1 chains in 1 job)\n",
      "NUTS: [alpha, beta, mu]\n",
      "Sampling 1 chain for 1_000 tune and 1_000 draw iterations (1_000 + 1_000 draws total) took 2 seconds.\n",
      "Auto-assigning NUTS sampler...\n",
      "Initializing NUTS using jitter+adapt_diag...\n",
      "Sequential sampling (1 chains in 1 job)\n",
      "NUTS: [alpha, beta, mu]\n",
      "Sampling 1 chain for 1_000 tune and 1_000 draw iterations (1_000 + 1_000 draws total) took 2 seconds.\n"
     ]
    },
    {
     "name": "stdout",
     "output_type": "stream",
     "text": [
      "9\n"
     ]
    },
    {
     "name": "stderr",
     "output_type": "stream",
     "text": [
      "Auto-assigning NUTS sampler...\n",
      "Initializing NUTS using jitter+adapt_diag...\n",
      "Sequential sampling (1 chains in 1 job)\n",
      "NUTS: [alpha, beta, mu]\n",
      "Sampling 1 chain for 1_000 tune and 1_000 draw iterations (1_000 + 1_000 draws total) took 2 seconds.\n",
      "Auto-assigning NUTS sampler...\n",
      "Initializing NUTS using jitter+adapt_diag...\n",
      "Sequential sampling (1 chains in 1 job)\n",
      "NUTS: [alpha, beta, mu]\n",
      "Sampling 1 chain for 1_000 tune and 1_000 draw iterations (1_000 + 1_000 draws total) took 2 seconds.\n"
     ]
    }
   ],
   "source": [
    "trial.calibrate()"
   ]
  },
  {
   "cell_type": "code",
   "execution_count": 6,
   "metadata": {
    "collapsed": false,
    "jupyter": {
     "outputs_hidden": false
    }
   },
   "outputs": [
    {
     "data": {
      "text/plain": [
       "0.8542"
      ]
     },
     "execution_count": 6,
     "metadata": {},
     "output_type": "execute_result"
    }
   ],
   "source": [
    "trial.Q_calibrated"
   ]
  },
  {
   "cell_type": "code",
   "execution_count": null,
   "metadata": {},
   "outputs": [],
   "source": []
  }
 ],
 "metadata": {
  "kernelspec": {
   "display_name": "Python 3 (ipykernel)",
   "language": "python",
   "name": "python3"
  },
  "language_info": {
   "codemirror_mode": {
    "name": "ipython",
    "version": 3
   },
   "file_extension": ".py",
   "mimetype": "text/x-python",
   "name": "python",
   "nbconvert_exporter": "python",
   "pygments_lexer": "ipython3",
   "version": "3.11.0"
  }
 },
 "nbformat": 4,
 "nbformat_minor": 4
}
