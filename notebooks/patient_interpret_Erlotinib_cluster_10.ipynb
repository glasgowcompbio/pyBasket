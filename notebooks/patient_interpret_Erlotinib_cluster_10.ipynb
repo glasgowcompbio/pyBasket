{
 "cells": [
  {
   "cell_type": "markdown",
   "metadata": {
    "tags": []
   },
   "source": [
    "# GDSCv2 Interpretation\n",
    "\n",
    "This notebook shows some example on how to interpret the output from the Bayesian model to infer responses of basket/cluster combinations."
   ]
  },
  {
   "cell_type": "code",
   "execution_count": 1,
   "metadata": {},
   "outputs": [],
   "source": [
    "%matplotlib inline\n",
    "\n",
    "%load_ext autoreload\n",
    "%autoreload 2"
   ]
  },
  {
   "cell_type": "code",
   "execution_count": 2,
   "metadata": {},
   "outputs": [],
   "source": [
    "import os\n",
    "import sys\n",
    "\n",
    "sys.path.append('..')\n",
    "sys.path.append('.')"
   ]
  },
  {
   "cell_type": "code",
   "execution_count": 3,
   "metadata": {},
   "outputs": [],
   "source": [
    "from pyBasket.common import load_obj\n",
    "from pyBasket.interpret import get_predicted_basket_df, get_basket_cluster_prob_df, find_top_k_indices, find_bottom_k_indices\n",
    "from pyBasket.interpret import select_partition, plot_responsive_count, get_member_expression, ttest_dataframe\n",
    "from pyBasket.interpret import plot_expression_boxplot, df_diff, plot_basket_probs, plot_basket_cluster_heatmap\n",
    "from pyBasket.clustering import plot_PCA"
   ]
  },
  {
   "cell_type": "markdown",
   "metadata": {
    "tags": []
   },
   "source": [
    "# Load results"
   ]
  },
  {
   "cell_type": "markdown",
   "metadata": {},
   "source": [
    "Load previously saved results"
   ]
  },
  {
   "cell_type": "code",
   "execution_count": 4,
   "metadata": {},
   "outputs": [],
   "source": [
    "drug_name = 'Erlotinib'\n",
    "C = 10"
   ]
  },
  {
   "cell_type": "code",
   "execution_count": 5,
   "metadata": {},
   "outputs": [],
   "source": [
    "input_dir = 'results'\n",
    "file_name = 'patient_analysis_%s_cluster_%d.p' % (drug_name, C)\n",
    "save_data = load_obj(os.path.join(input_dir, file_name))"
   ]
  },
  {
   "cell_type": "code",
   "execution_count": 6,
   "metadata": {},
   "outputs": [
    {
     "data": {
      "text/plain": [
       "['expr_df_filtered',\n",
       " 'expr_df_selected',\n",
       " 'drug_response',\n",
       " 'class_labels',\n",
       " 'cluster_labels',\n",
       " 'patient_df',\n",
       " 'stacked_posterior',\n",
       " 'trace',\n",
       " 'importance_df']"
      ]
     },
     "execution_count": 6,
     "metadata": {},
     "output_type": "execute_result"
    }
   ],
   "source": [
    "list(save_data.keys())"
   ]
  },
  {
   "cell_type": "markdown",
   "metadata": {},
   "source": [
    "# Things to show in the viz"
   ]
  },
  {
   "cell_type": "markdown",
   "metadata": {},
   "source": [
    "## Basket probabilities"
   ]
  },
  {
   "cell_type": "code",
   "execution_count": 7,
   "metadata": {},
   "outputs": [
    {
     "data": {
      "text/html": [
       "<div>\n",
       "<style scoped>\n",
       "    .dataframe tbody tr th:only-of-type {\n",
       "        vertical-align: middle;\n",
       "    }\n",
       "\n",
       "    .dataframe tbody tr th {\n",
       "        vertical-align: top;\n",
       "    }\n",
       "\n",
       "    .dataframe thead th {\n",
       "        text-align: right;\n",
       "    }\n",
       "</style>\n",
       "<table border=\"1\" class=\"dataframe\">\n",
       "  <thead>\n",
       "    <tr style=\"text-align: right;\">\n",
       "      <th></th>\n",
       "      <th>prob</th>\n",
       "    </tr>\n",
       "  </thead>\n",
       "  <tbody>\n",
       "    <tr>\n",
       "      <th>Biliary Tract</th>\n",
       "      <td>0.676355</td>\n",
       "    </tr>\n",
       "    <tr>\n",
       "      <th>Bladder/Urinary Tract</th>\n",
       "      <td>0.639912</td>\n",
       "    </tr>\n",
       "    <tr>\n",
       "      <th>Bone</th>\n",
       "      <td>0.518524</td>\n",
       "    </tr>\n",
       "    <tr>\n",
       "      <th>Bowel</th>\n",
       "      <td>0.540074</td>\n",
       "    </tr>\n",
       "    <tr>\n",
       "      <th>Breast</th>\n",
       "      <td>0.395533</td>\n",
       "    </tr>\n",
       "    <tr>\n",
       "      <th>Cervix</th>\n",
       "      <td>0.176984</td>\n",
       "    </tr>\n",
       "    <tr>\n",
       "      <th>CNS/Brain</th>\n",
       "      <td>0.711437</td>\n",
       "    </tr>\n",
       "    <tr>\n",
       "      <th>Esophagus/Stomach</th>\n",
       "      <td>0.525731</td>\n",
       "    </tr>\n",
       "    <tr>\n",
       "      <th>Head and Neck</th>\n",
       "      <td>0.126352</td>\n",
       "    </tr>\n",
       "    <tr>\n",
       "      <th>Kidney</th>\n",
       "      <td>0.374972</td>\n",
       "    </tr>\n",
       "    <tr>\n",
       "      <th>Liver</th>\n",
       "      <td>0.491934</td>\n",
       "    </tr>\n",
       "    <tr>\n",
       "      <th>Lung</th>\n",
       "      <td>0.652414</td>\n",
       "    </tr>\n",
       "    <tr>\n",
       "      <th>Lymphoid</th>\n",
       "      <td>0.721968</td>\n",
       "    </tr>\n",
       "    <tr>\n",
       "      <th>Myeloid</th>\n",
       "      <td>0.600691</td>\n",
       "    </tr>\n",
       "    <tr>\n",
       "      <th>Other</th>\n",
       "      <td>0.429870</td>\n",
       "    </tr>\n",
       "    <tr>\n",
       "      <th>Ovary/Fallopian Tube</th>\n",
       "      <td>0.430811</td>\n",
       "    </tr>\n",
       "    <tr>\n",
       "      <th>Pancreas</th>\n",
       "      <td>0.526448</td>\n",
       "    </tr>\n",
       "    <tr>\n",
       "      <th>Peripheral Nervous System</th>\n",
       "      <td>0.376638</td>\n",
       "    </tr>\n",
       "    <tr>\n",
       "      <th>Pleura</th>\n",
       "      <td>0.539474</td>\n",
       "    </tr>\n",
       "    <tr>\n",
       "      <th>Prostate</th>\n",
       "      <td>0.545431</td>\n",
       "    </tr>\n",
       "    <tr>\n",
       "      <th>Skin</th>\n",
       "      <td>0.525726</td>\n",
       "    </tr>\n",
       "    <tr>\n",
       "      <th>Soft Tissue</th>\n",
       "      <td>0.451700</td>\n",
       "    </tr>\n",
       "    <tr>\n",
       "      <th>Thyroid</th>\n",
       "      <td>0.478642</td>\n",
       "    </tr>\n",
       "    <tr>\n",
       "      <th>Uterus</th>\n",
       "      <td>0.340989</td>\n",
       "    </tr>\n",
       "  </tbody>\n",
       "</table>\n",
       "</div>"
      ],
      "text/plain": [
       "                               prob\n",
       "Biliary Tract              0.676355\n",
       "Bladder/Urinary Tract      0.639912\n",
       "Bone                       0.518524\n",
       "Bowel                      0.540074\n",
       "Breast                     0.395533\n",
       "Cervix                     0.176984\n",
       "CNS/Brain                  0.711437\n",
       "Esophagus/Stomach          0.525731\n",
       "Head and Neck              0.126352\n",
       "Kidney                     0.374972\n",
       "Liver                      0.491934\n",
       "Lung                       0.652414\n",
       "Lymphoid                   0.721968\n",
       "Myeloid                    0.600691\n",
       "Other                      0.429870\n",
       "Ovary/Fallopian Tube       0.430811\n",
       "Pancreas                   0.526448\n",
       "Peripheral Nervous System  0.376638\n",
       "Pleura                     0.539474\n",
       "Prostate                   0.545431\n",
       "Skin                       0.525726\n",
       "Soft Tissue                0.451700\n",
       "Thyroid                    0.478642\n",
       "Uterus                     0.340989"
      ]
     },
     "execution_count": 7,
     "metadata": {},
     "output_type": "execute_result"
    }
   ],
   "source": [
    "predicted_basket_df = get_predicted_basket_df(save_data)\n",
    "predicted_basket_df"
   ]
  },
  {
   "cell_type": "code",
   "execution_count": 8,
   "metadata": {},
   "outputs": [
    {
     "data": {
      "image/png": "[encoded data removed]",
      "text/plain": [
       "<Figure size 1200x300 with 1 Axes>"
      ]
     },
     "metadata": {},
     "output_type": "display_data"
    }
   ],
   "source": [
    "plot_basket_probs(predicted_basket_df)"
   ]
  },
  {
   "cell_type": "markdown",
   "metadata": {},
   "source": [
    "## Overall heatmap"
   ]
  },
  {
   "cell_type": "code",
   "execution_count": 9,
   "metadata": {},
   "outputs": [],
   "source": [
    "inferred_df = get_basket_cluster_prob_df(save_data)"
   ]
  },
  {
   "cell_type": "code",
   "execution_count": 10,
   "metadata": {},
   "outputs": [
    {
     "data": {
      "image/png": "[encoded data removed]",
      "text/plain": [
       "<Figure size 1000x1000 with 2 Axes>"
      ]
     },
     "metadata": {},
     "output_type": "display_data"
    }
   ],
   "source": [
    "plot_basket_cluster_heatmap(inferred_df, 3, 12)"
   ]
  },
  {
   "cell_type": "markdown",
   "metadata": {},
   "source": [
    "# Any interesting data to look at?"
   ]
  },
  {
   "cell_type": "markdown",
   "metadata": {},
   "source": [
    "## Which basket/cluster combinations have the highest / lowest response rates?"
   ]
  },
  {
   "cell_type": "code",
   "execution_count": 11,
   "metadata": {},
   "outputs": [
    {
     "data": {
      "text/html": [
       "<div>\n",
       "<style scoped>\n",
       "    .dataframe tbody tr th:only-of-type {\n",
       "        vertical-align: middle;\n",
       "    }\n",
       "\n",
       "    .dataframe tbody tr th {\n",
       "        vertical-align: top;\n",
       "    }\n",
       "\n",
       "    .dataframe thead th {\n",
       "        text-align: right;\n",
       "    }\n",
       "</style>\n",
       "<table border=\"1\" class=\"dataframe\">\n",
       "  <thead>\n",
       "    <tr style=\"text-align: right;\">\n",
       "      <th></th>\n",
       "      <th>basket_idx</th>\n",
       "      <th>cluster_idx</th>\n",
       "      <th>basket</th>\n",
       "      <th>cluster</th>\n",
       "      <th>probability</th>\n",
       "      <th>count</th>\n",
       "    </tr>\n",
       "  </thead>\n",
       "  <tbody>\n",
       "    <tr>\n",
       "      <th>0</th>\n",
       "      <td>12</td>\n",
       "      <td>3</td>\n",
       "      <td>Lymphoid</td>\n",
       "      <td>3</td>\n",
       "      <td>0.872544</td>\n",
       "      <td>26</td>\n",
       "    </tr>\n",
       "    <tr>\n",
       "      <th>1</th>\n",
       "      <td>11</td>\n",
       "      <td>1</td>\n",
       "      <td>Lung</td>\n",
       "      <td>1</td>\n",
       "      <td>0.860262</td>\n",
       "      <td>3</td>\n",
       "    </tr>\n",
       "    <tr>\n",
       "      <th>2</th>\n",
       "      <td>13</td>\n",
       "      <td>8</td>\n",
       "      <td>Myeloid</td>\n",
       "      <td>8</td>\n",
       "      <td>0.855964</td>\n",
       "      <td>9</td>\n",
       "    </tr>\n",
       "    <tr>\n",
       "      <th>3</th>\n",
       "      <td>6</td>\n",
       "      <td>1</td>\n",
       "      <td>CNS/Brain</td>\n",
       "      <td>1</td>\n",
       "      <td>0.843743</td>\n",
       "      <td>2</td>\n",
       "    </tr>\n",
       "    <tr>\n",
       "      <th>4</th>\n",
       "      <td>6</td>\n",
       "      <td>6</td>\n",
       "      <td>CNS/Brain</td>\n",
       "      <td>6</td>\n",
       "      <td>0.798482</td>\n",
       "      <td>1</td>\n",
       "    </tr>\n",
       "    <tr>\n",
       "      <th>5</th>\n",
       "      <td>12</td>\n",
       "      <td>1</td>\n",
       "      <td>Lymphoid</td>\n",
       "      <td>1</td>\n",
       "      <td>0.794397</td>\n",
       "      <td>1</td>\n",
       "    </tr>\n",
       "    <tr>\n",
       "      <th>6</th>\n",
       "      <td>19</td>\n",
       "      <td>7</td>\n",
       "      <td>Prostate</td>\n",
       "      <td>7</td>\n",
       "      <td>0.729919</td>\n",
       "      <td>1</td>\n",
       "    </tr>\n",
       "    <tr>\n",
       "      <th>7</th>\n",
       "      <td>7</td>\n",
       "      <td>7</td>\n",
       "      <td>Esophagus/Stomach</td>\n",
       "      <td>7</td>\n",
       "      <td>0.724014</td>\n",
       "      <td>1</td>\n",
       "    </tr>\n",
       "    <tr>\n",
       "      <th>8</th>\n",
       "      <td>16</td>\n",
       "      <td>7</td>\n",
       "      <td>Pancreas</td>\n",
       "      <td>7</td>\n",
       "      <td>0.721039</td>\n",
       "      <td>1</td>\n",
       "    </tr>\n",
       "    <tr>\n",
       "      <th>9</th>\n",
       "      <td>3</td>\n",
       "      <td>1</td>\n",
       "      <td>Bowel</td>\n",
       "      <td>1</td>\n",
       "      <td>0.713589</td>\n",
       "      <td>1</td>\n",
       "    </tr>\n",
       "  </tbody>\n",
       "</table>\n",
       "</div>"
      ],
      "text/plain": [
       "   basket_idx  cluster_idx             basket  cluster  probability  count\n",
       "0          12            3           Lymphoid        3     0.872544     26\n",
       "1          11            1               Lung        1     0.860262      3\n",
       "2          13            8            Myeloid        8     0.855964      9\n",
       "3           6            1          CNS/Brain        1     0.843743      2\n",
       "4           6            6          CNS/Brain        6     0.798482      1\n",
       "5          12            1           Lymphoid        1     0.794397      1\n",
       "6          19            7           Prostate        7     0.729919      1\n",
       "7           7            7  Esophagus/Stomach        7     0.724014      1\n",
       "8          16            7           Pancreas        7     0.721039      1\n",
       "9           3            1              Bowel        1     0.713589      1"
      ]
     },
     "execution_count": 11,
     "metadata": {},
     "output_type": "execute_result"
    }
   ],
   "source": [
    "top_df = find_top_k_indices(save_data, 10)\n",
    "top_df"
   ]
  },
  {
   "cell_type": "code",
   "execution_count": 12,
   "metadata": {},
   "outputs": [
    {
     "data": {
      "text/html": [
       "<div>\n",
       "<style scoped>\n",
       "    .dataframe tbody tr th:only-of-type {\n",
       "        vertical-align: middle;\n",
       "    }\n",
       "\n",
       "    .dataframe tbody tr th {\n",
       "        vertical-align: top;\n",
       "    }\n",
       "\n",
       "    .dataframe thead th {\n",
       "        text-align: right;\n",
       "    }\n",
       "</style>\n",
       "<table border=\"1\" class=\"dataframe\">\n",
       "  <thead>\n",
       "    <tr style=\"text-align: right;\">\n",
       "      <th></th>\n",
       "      <th>basket_idx</th>\n",
       "      <th>cluster_idx</th>\n",
       "      <th>basket</th>\n",
       "      <th>cluster</th>\n",
       "      <th>probability</th>\n",
       "      <th>count</th>\n",
       "    </tr>\n",
       "  </thead>\n",
       "  <tbody>\n",
       "    <tr>\n",
       "      <th>0</th>\n",
       "      <td>8</td>\n",
       "      <td>0</td>\n",
       "      <td>Head and Neck</td>\n",
       "      <td>0</td>\n",
       "      <td>0.019096</td>\n",
       "      <td>12</td>\n",
       "    </tr>\n",
       "    <tr>\n",
       "      <th>1</th>\n",
       "      <td>5</td>\n",
       "      <td>0</td>\n",
       "      <td>Cervix</td>\n",
       "      <td>0</td>\n",
       "      <td>0.033006</td>\n",
       "      <td>7</td>\n",
       "    </tr>\n",
       "    <tr>\n",
       "      <th>2</th>\n",
       "      <td>7</td>\n",
       "      <td>0</td>\n",
       "      <td>Esophagus/Stomach</td>\n",
       "      <td>0</td>\n",
       "      <td>0.073574</td>\n",
       "      <td>6</td>\n",
       "    </tr>\n",
       "    <tr>\n",
       "      <th>3</th>\n",
       "      <td>8</td>\n",
       "      <td>2</td>\n",
       "      <td>Head and Neck</td>\n",
       "      <td>2</td>\n",
       "      <td>0.079377</td>\n",
       "      <td>3</td>\n",
       "    </tr>\n",
       "    <tr>\n",
       "      <th>4</th>\n",
       "      <td>5</td>\n",
       "      <td>4</td>\n",
       "      <td>Cervix</td>\n",
       "      <td>4</td>\n",
       "      <td>0.102819</td>\n",
       "      <td>1</td>\n",
       "    </tr>\n",
       "    <tr>\n",
       "      <th>5</th>\n",
       "      <td>15</td>\n",
       "      <td>0</td>\n",
       "      <td>Ovary/Fallopian Tube</td>\n",
       "      <td>0</td>\n",
       "      <td>0.120766</td>\n",
       "      <td>1</td>\n",
       "    </tr>\n",
       "    <tr>\n",
       "      <th>6</th>\n",
       "      <td>8</td>\n",
       "      <td>1</td>\n",
       "      <td>Head and Neck</td>\n",
       "      <td>1</td>\n",
       "      <td>0.133621</td>\n",
       "      <td>1</td>\n",
       "    </tr>\n",
       "    <tr>\n",
       "      <th>7</th>\n",
       "      <td>5</td>\n",
       "      <td>7</td>\n",
       "      <td>Cervix</td>\n",
       "      <td>7</td>\n",
       "      <td>0.136623</td>\n",
       "      <td>2</td>\n",
       "    </tr>\n",
       "    <tr>\n",
       "      <th>8</th>\n",
       "      <td>4</td>\n",
       "      <td>0</td>\n",
       "      <td>Breast</td>\n",
       "      <td>0</td>\n",
       "      <td>0.149647</td>\n",
       "      <td>1</td>\n",
       "    </tr>\n",
       "    <tr>\n",
       "      <th>9</th>\n",
       "      <td>8</td>\n",
       "      <td>4</td>\n",
       "      <td>Head and Neck</td>\n",
       "      <td>4</td>\n",
       "      <td>0.159788</td>\n",
       "      <td>0</td>\n",
       "    </tr>\n",
       "  </tbody>\n",
       "</table>\n",
       "</div>"
      ],
      "text/plain": [
       "   basket_idx  cluster_idx                basket  cluster  probability  count\n",
       "0           8            0         Head and Neck        0     0.019096     12\n",
       "1           5            0                Cervix        0     0.033006      7\n",
       "2           7            0     Esophagus/Stomach        0     0.073574      6\n",
       "3           8            2         Head and Neck        2     0.079377      3\n",
       "4           5            4                Cervix        4     0.102819      1\n",
       "5          15            0  Ovary/Fallopian Tube        0     0.120766      1\n",
       "6           8            1         Head and Neck        1     0.133621      1\n",
       "7           5            7                Cervix        7     0.136623      2\n",
       "8           4            0                Breast        0     0.149647      1\n",
       "9           8            4         Head and Neck        4     0.159788      0"
      ]
     },
     "execution_count": 12,
     "metadata": {},
     "output_type": "execute_result"
    }
   ],
   "source": [
    "bottom_df = find_bottom_k_indices(save_data, 10)\n",
    "bottom_df"
   ]
  },
  {
   "cell_type": "markdown",
   "metadata": {},
   "source": [
    "## Inspect one partition"
   ]
  },
  {
   "cell_type": "code",
   "execution_count": 13,
   "metadata": {},
   "outputs": [
    {
     "data": {
      "text/html": [
       "<div>\n",
       "<style scoped>\n",
       "    .dataframe tbody tr th:only-of-type {\n",
       "        vertical-align: middle;\n",
       "    }\n",
       "\n",
       "    .dataframe tbody tr th {\n",
       "        vertical-align: top;\n",
       "    }\n",
       "\n",
       "    .dataframe thead th {\n",
       "        text-align: right;\n",
       "    }\n",
       "</style>\n",
       "<table border=\"1\" class=\"dataframe\">\n",
       "  <thead>\n",
       "    <tr style=\"text-align: right;\">\n",
       "      <th></th>\n",
       "      <th>tissues</th>\n",
       "      <th>responses</th>\n",
       "      <th>basket_number</th>\n",
       "      <th>cluster_number</th>\n",
       "      <th>responsive</th>\n",
       "    </tr>\n",
       "    <tr>\n",
       "      <th>samples</th>\n",
       "      <th></th>\n",
       "      <th></th>\n",
       "      <th></th>\n",
       "      <th></th>\n",
       "      <th></th>\n",
       "    </tr>\n",
       "  </thead>\n",
       "  <tbody>\n",
       "    <tr>\n",
       "      <th>GR-ST</th>\n",
       "      <td>Lymphoid</td>\n",
       "      <td>0.050943</td>\n",
       "      <td>12</td>\n",
       "      <td>8</td>\n",
       "      <td>1</td>\n",
       "    </tr>\n",
       "    <tr>\n",
       "      <th>VAL</th>\n",
       "      <td>Lymphoid</td>\n",
       "      <td>0.003482</td>\n",
       "      <td>12</td>\n",
       "      <td>8</td>\n",
       "      <td>1</td>\n",
       "    </tr>\n",
       "    <tr>\n",
       "      <th>BE-13</th>\n",
       "      <td>Lymphoid</td>\n",
       "      <td>0.147782</td>\n",
       "      <td>12</td>\n",
       "      <td>8</td>\n",
       "      <td>0</td>\n",
       "    </tr>\n",
       "    <tr>\n",
       "      <th>P30/OHK</th>\n",
       "      <td>Lymphoid</td>\n",
       "      <td>0.153038</td>\n",
       "      <td>12</td>\n",
       "      <td>8</td>\n",
       "      <td>0</td>\n",
       "    </tr>\n",
       "    <tr>\n",
       "      <th>U-698-M</th>\n",
       "      <td>Lymphoid</td>\n",
       "      <td>0.000000</td>\n",
       "      <td>12</td>\n",
       "      <td>8</td>\n",
       "      <td>1</td>\n",
       "    </tr>\n",
       "    <tr>\n",
       "      <th>MN-60</th>\n",
       "      <td>Lymphoid</td>\n",
       "      <td>0.009550</td>\n",
       "      <td>12</td>\n",
       "      <td>8</td>\n",
       "      <td>1</td>\n",
       "    </tr>\n",
       "    <tr>\n",
       "      <th>Karpas-45</th>\n",
       "      <td>Lymphoid</td>\n",
       "      <td>0.075559</td>\n",
       "      <td>12</td>\n",
       "      <td>8</td>\n",
       "      <td>0</td>\n",
       "    </tr>\n",
       "    <tr>\n",
       "      <th>BALL-1</th>\n",
       "      <td>Lymphoid</td>\n",
       "      <td>0.032240</td>\n",
       "      <td>12</td>\n",
       "      <td>8</td>\n",
       "      <td>1</td>\n",
       "    </tr>\n",
       "    <tr>\n",
       "      <th>Ramos.2G6.4C10</th>\n",
       "      <td>Lymphoid</td>\n",
       "      <td>0.037024</td>\n",
       "      <td>12</td>\n",
       "      <td>8</td>\n",
       "      <td>1</td>\n",
       "    </tr>\n",
       "    <tr>\n",
       "      <th>MHH-PREB-1</th>\n",
       "      <td>Lymphoid</td>\n",
       "      <td>0.084586</td>\n",
       "      <td>12</td>\n",
       "      <td>8</td>\n",
       "      <td>0</td>\n",
       "    </tr>\n",
       "    <tr>\n",
       "      <th>DND-41</th>\n",
       "      <td>Lymphoid</td>\n",
       "      <td>0.003148</td>\n",
       "      <td>12</td>\n",
       "      <td>8</td>\n",
       "      <td>1</td>\n",
       "    </tr>\n",
       "    <tr>\n",
       "      <th>MLMA</th>\n",
       "      <td>Lymphoid</td>\n",
       "      <td>0.049945</td>\n",
       "      <td>12</td>\n",
       "      <td>8</td>\n",
       "      <td>1</td>\n",
       "    </tr>\n",
       "    <tr>\n",
       "      <th>DG-75</th>\n",
       "      <td>Lymphoid</td>\n",
       "      <td>0.005752</td>\n",
       "      <td>12</td>\n",
       "      <td>8</td>\n",
       "      <td>1</td>\n",
       "    </tr>\n",
       "    <tr>\n",
       "      <th>Karpas-231</th>\n",
       "      <td>Lymphoid</td>\n",
       "      <td>0.171308</td>\n",
       "      <td>12</td>\n",
       "      <td>8</td>\n",
       "      <td>0</td>\n",
       "    </tr>\n",
       "    <tr>\n",
       "      <th>SU-DHL-6</th>\n",
       "      <td>Lymphoid</td>\n",
       "      <td>0.000000</td>\n",
       "      <td>12</td>\n",
       "      <td>8</td>\n",
       "      <td>1</td>\n",
       "    </tr>\n",
       "    <tr>\n",
       "      <th>WSU-NHL</th>\n",
       "      <td>Lymphoid</td>\n",
       "      <td>0.000000</td>\n",
       "      <td>12</td>\n",
       "      <td>8</td>\n",
       "      <td>1</td>\n",
       "    </tr>\n",
       "    <tr>\n",
       "      <th>SU-DHL-5</th>\n",
       "      <td>Lymphoid</td>\n",
       "      <td>0.085816</td>\n",
       "      <td>12</td>\n",
       "      <td>8</td>\n",
       "      <td>0</td>\n",
       "    </tr>\n",
       "    <tr>\n",
       "      <th>SU-DHL-10</th>\n",
       "      <td>Lymphoid</td>\n",
       "      <td>0.104042</td>\n",
       "      <td>12</td>\n",
       "      <td>8</td>\n",
       "      <td>0</td>\n",
       "    </tr>\n",
       "    <tr>\n",
       "      <th>LC4-1</th>\n",
       "      <td>Lymphoid</td>\n",
       "      <td>0.047247</td>\n",
       "      <td>12</td>\n",
       "      <td>8</td>\n",
       "      <td>1</td>\n",
       "    </tr>\n",
       "    <tr>\n",
       "      <th>WSU-DLCL2</th>\n",
       "      <td>Lymphoid</td>\n",
       "      <td>0.071247</td>\n",
       "      <td>12</td>\n",
       "      <td>8</td>\n",
       "      <td>0</td>\n",
       "    </tr>\n",
       "    <tr>\n",
       "      <th>MOLT-4</th>\n",
       "      <td>Lymphoid</td>\n",
       "      <td>0.065753</td>\n",
       "      <td>12</td>\n",
       "      <td>8</td>\n",
       "      <td>0</td>\n",
       "    </tr>\n",
       "    <tr>\n",
       "      <th>CCRF-CEM</th>\n",
       "      <td>Lymphoid</td>\n",
       "      <td>0.022311</td>\n",
       "      <td>12</td>\n",
       "      <td>8</td>\n",
       "      <td>1</td>\n",
       "    </tr>\n",
       "    <tr>\n",
       "      <th>ALL-PO</th>\n",
       "      <td>Lymphoid</td>\n",
       "      <td>0.029406</td>\n",
       "      <td>12</td>\n",
       "      <td>8</td>\n",
       "      <td>1</td>\n",
       "    </tr>\n",
       "    <tr>\n",
       "      <th>CTV-1</th>\n",
       "      <td>Lymphoid</td>\n",
       "      <td>0.028553</td>\n",
       "      <td>12</td>\n",
       "      <td>8</td>\n",
       "      <td>1</td>\n",
       "    </tr>\n",
       "    <tr>\n",
       "      <th>TK [Human B-cell lymphoma]</th>\n",
       "      <td>Lymphoid</td>\n",
       "      <td>0.007591</td>\n",
       "      <td>12</td>\n",
       "      <td>8</td>\n",
       "      <td>1</td>\n",
       "    </tr>\n",
       "    <tr>\n",
       "      <th>P32/ISH</th>\n",
       "      <td>Lymphoid</td>\n",
       "      <td>0.000000</td>\n",
       "      <td>12</td>\n",
       "      <td>8</td>\n",
       "      <td>1</td>\n",
       "    </tr>\n",
       "  </tbody>\n",
       "</table>\n",
       "</div>"
      ],
      "text/plain": [
       "                             tissues  responses  basket_number  \\\n",
       "samples                                                          \n",
       "GR-ST                       Lymphoid   0.050943             12   \n",
       "VAL                         Lymphoid   0.003482             12   \n",
       "BE-13                       Lymphoid   0.147782             12   \n",
       "P30/OHK                     Lymphoid   0.153038             12   \n",
       "U-698-M                     Lymphoid   0.000000             12   \n",
       "MN-60                       Lymphoid   0.009550             12   \n",
       "Karpas-45                   Lymphoid   0.075559             12   \n",
       "BALL-1                      Lymphoid   0.032240             12   \n",
       "Ramos.2G6.4C10              Lymphoid   0.037024             12   \n",
       "MHH-PREB-1                  Lymphoid   0.084586             12   \n",
       "DND-41                      Lymphoid   0.003148             12   \n",
       "MLMA                        Lymphoid   0.049945             12   \n",
       "DG-75                       Lymphoid   0.005752             12   \n",
       "Karpas-231                  Lymphoid   0.171308             12   \n",
       "SU-DHL-6                    Lymphoid   0.000000             12   \n",
       "WSU-NHL                     Lymphoid   0.000000             12   \n",
       "SU-DHL-5                    Lymphoid   0.085816             12   \n",
       "SU-DHL-10                   Lymphoid   0.104042             12   \n",
       "LC4-1                       Lymphoid   0.047247             12   \n",
       "WSU-DLCL2                   Lymphoid   0.071247             12   \n",
       "MOLT-4                      Lymphoid   0.065753             12   \n",
       "CCRF-CEM                    Lymphoid   0.022311             12   \n",
       "ALL-PO                      Lymphoid   0.029406             12   \n",
       "CTV-1                       Lymphoid   0.028553             12   \n",
       "TK [Human B-cell lymphoma]  Lymphoid   0.007591             12   \n",
       "P32/ISH                     Lymphoid   0.000000             12   \n",
       "\n",
       "                            cluster_number  responsive  \n",
       "samples                                                 \n",
       "GR-ST                                    8           1  \n",
       "VAL                                      8           1  \n",
       "BE-13                                    8           0  \n",
       "P30/OHK                                  8           0  \n",
       "U-698-M                                  8           1  \n",
       "MN-60                                    8           1  \n",
       "Karpas-45                                8           0  \n",
       "BALL-1                                   8           1  \n",
       "Ramos.2G6.4C10                           8           1  \n",
       "MHH-PREB-1                               8           0  \n",
       "DND-41                                   8           1  \n",
       "MLMA                                     8           1  \n",
       "DG-75                                    8           1  \n",
       "Karpas-231                               8           0  \n",
       "SU-DHL-6                                 8           1  \n",
       "WSU-NHL                                  8           1  \n",
       "SU-DHL-5                                 8           0  \n",
       "SU-DHL-10                                8           0  \n",
       "LC4-1                                    8           1  \n",
       "WSU-DLCL2                                8           0  \n",
       "MOLT-4                                   8           0  \n",
       "CCRF-CEM                                 8           1  \n",
       "ALL-PO                                   8           1  \n",
       "CTV-1                                    8           1  \n",
       "TK [Human B-cell lymphoma]               8           1  \n",
       "P32/ISH                                  8           1  "
      ]
     },
     "execution_count": 13,
     "metadata": {},
     "output_type": "execute_result"
    }
   ],
   "source": [
    "query_basket = 'Lymphoid'\n",
    "query_cluster = 8\n",
    "selected_df = select_partition(save_data, query_basket, query_cluster)\n",
    "selected_df"
   ]
  },
  {
   "cell_type": "code",
   "execution_count": 14,
   "metadata": {},
   "outputs": [
    {
     "data": {
      "image/png": "[encoded data removed]",
      "text/plain": [
       "<Figure size 500x500 with 1 Axes>"
      ]
     },
     "metadata": {},
     "output_type": "display_data"
    }
   ],
   "source": [
    "plot_responsive_count(selected_df)"
   ]
  },
  {
   "cell_type": "code",
   "execution_count": 15,
   "metadata": {},
   "outputs": [
    {
     "data": {
      "text/plain": [
       "(26, 500)"
      ]
     },
     "execution_count": 15,
     "metadata": {},
     "output_type": "execute_result"
    }
   ],
   "source": [
    "member_df = get_member_expression(selected_df, save_data)\n",
    "member_df.shape"
   ]
  },
  {
   "cell_type": "code",
   "execution_count": 16,
   "metadata": {},
   "outputs": [
    {
     "name": "stdout",
     "output_type": "stream",
     "text": [
      "PCA explained variance [0.1789462 0.2813458]\n"
     ]
    },
    {
     "data": {
      "image/png": "[encoded data removed]",
      "text/plain": [
       "<Figure size 1000x500 with 1 Axes>"
      ]
     },
     "metadata": {},
     "output_type": "display_data"
    }
   ],
   "source": [
    "pc1, pc2 = plot_PCA(member_df, hue=selected_df['responsive'], n_components=2)"
   ]
  },
  {
   "cell_type": "markdown",
   "metadata": {},
   "source": [
    "Pick the first transcript as it has the highest importance score during feature selection."
   ]
  },
  {
   "cell_type": "code",
   "execution_count": 17,
   "metadata": {},
   "outputs": [
    {
     "data": {
      "text/plain": [
       "(272, 500)"
      ]
     },
     "execution_count": 17,
     "metadata": {},
     "output_type": "execute_result"
    }
   ],
   "source": [
    "all_expr_df = df_diff(member_df, save_data['expr_df_selected'])\n",
    "all_expr_df.shape"
   ]
  },
  {
   "cell_type": "code",
   "execution_count": 18,
   "metadata": {},
   "outputs": [
    {
     "data": {
      "text/html": [
       "<div>\n",
       "<style scoped>\n",
       "    .dataframe tbody tr th:only-of-type {\n",
       "        vertical-align: middle;\n",
       "    }\n",
       "\n",
       "    .dataframe tbody tr th {\n",
       "        vertical-align: top;\n",
       "    }\n",
       "\n",
       "    .dataframe thead th {\n",
       "        text-align: right;\n",
       "    }\n",
       "</style>\n",
       "<table border=\"1\" class=\"dataframe\">\n",
       "  <thead>\n",
       "    <tr style=\"text-align: right;\">\n",
       "      <th></th>\n",
       "      <th>T-Statistic</th>\n",
       "      <th>P-Value</th>\n",
       "      <th>P-Value (Bonferroni)</th>\n",
       "      <th>Significant</th>\n",
       "    </tr>\n",
       "    <tr>\n",
       "      <th>Feature</th>\n",
       "      <th></th>\n",
       "      <th></th>\n",
       "      <th></th>\n",
       "      <th></th>\n",
       "    </tr>\n",
       "  </thead>\n",
       "  <tbody>\n",
       "    <tr>\n",
       "      <th>ENSG00000153714.6</th>\n",
       "      <td>-15.376034</td>\n",
       "      <td>1.275387e-39</td>\n",
       "      <td>6.376935e-37</td>\n",
       "      <td>True</td>\n",
       "    </tr>\n",
       "    <tr>\n",
       "      <th>ENSG00000071564.16</th>\n",
       "      <td>12.048586</td>\n",
       "      <td>1.795102e-27</td>\n",
       "      <td>8.975508e-25</td>\n",
       "      <td>True</td>\n",
       "    </tr>\n",
       "    <tr>\n",
       "      <th>ENSG00000198624.13</th>\n",
       "      <td>12.008580</td>\n",
       "      <td>2.485498e-27</td>\n",
       "      <td>1.242749e-24</td>\n",
       "      <td>True</td>\n",
       "    </tr>\n",
       "    <tr>\n",
       "      <th>ENSG00000074590.13</th>\n",
       "      <td>-11.832869</td>\n",
       "      <td>1.033377e-26</td>\n",
       "      <td>5.166885e-24</td>\n",
       "      <td>True</td>\n",
       "    </tr>\n",
       "    <tr>\n",
       "      <th>ENSG00000196754.12</th>\n",
       "      <td>-11.431535</td>\n",
       "      <td>2.604163e-25</td>\n",
       "      <td>1.302081e-22</td>\n",
       "      <td>True</td>\n",
       "    </tr>\n",
       "    <tr>\n",
       "      <th>...</th>\n",
       "      <td>...</td>\n",
       "      <td>...</td>\n",
       "      <td>...</td>\n",
       "      <td>...</td>\n",
       "    </tr>\n",
       "    <tr>\n",
       "      <th>ENSG00000065328.16</th>\n",
       "      <td>4.017084</td>\n",
       "      <td>7.477337e-05</td>\n",
       "      <td>3.738669e-02</td>\n",
       "      <td>True</td>\n",
       "    </tr>\n",
       "    <tr>\n",
       "      <th>ENSG00000153936.17</th>\n",
       "      <td>3.997731</td>\n",
       "      <td>8.081317e-05</td>\n",
       "      <td>4.040658e-02</td>\n",
       "      <td>True</td>\n",
       "    </tr>\n",
       "    <tr>\n",
       "      <th>ENSG00000165799.5</th>\n",
       "      <td>-3.980253</td>\n",
       "      <td>8.666360e-05</td>\n",
       "      <td>4.333180e-02</td>\n",
       "      <td>True</td>\n",
       "    </tr>\n",
       "    <tr>\n",
       "      <th>ENSG00000124102.5</th>\n",
       "      <td>-3.958701</td>\n",
       "      <td>9.443197e-05</td>\n",
       "      <td>4.721598e-02</td>\n",
       "      <td>True</td>\n",
       "    </tr>\n",
       "    <tr>\n",
       "      <th>ENSG00000049283.18</th>\n",
       "      <td>-3.956578</td>\n",
       "      <td>9.523193e-05</td>\n",
       "      <td>4.761596e-02</td>\n",
       "      <td>True</td>\n",
       "    </tr>\n",
       "  </tbody>\n",
       "</table>\n",
       "<p>162 rows × 4 columns</p>\n",
       "</div>"
      ],
      "text/plain": [
       "                    T-Statistic       P-Value  P-Value (Bonferroni)  \\\n",
       "Feature                                                               \n",
       "ENSG00000153714.6    -15.376034  1.275387e-39          6.376935e-37   \n",
       "ENSG00000071564.16    12.048586  1.795102e-27          8.975508e-25   \n",
       "ENSG00000198624.13    12.008580  2.485498e-27          1.242749e-24   \n",
       "ENSG00000074590.13   -11.832869  1.033377e-26          5.166885e-24   \n",
       "ENSG00000196754.12   -11.431535  2.604163e-25          1.302081e-22   \n",
       "...                         ...           ...                   ...   \n",
       "ENSG00000065328.16     4.017084  7.477337e-05          3.738669e-02   \n",
       "ENSG00000153936.17     3.997731  8.081317e-05          4.040658e-02   \n",
       "ENSG00000165799.5     -3.980253  8.666360e-05          4.333180e-02   \n",
       "ENSG00000124102.5     -3.958701  9.443197e-05          4.721598e-02   \n",
       "ENSG00000049283.18    -3.956578  9.523193e-05          4.761596e-02   \n",
       "\n",
       "                    Significant  \n",
       "Feature                          \n",
       "ENSG00000153714.6          True  \n",
       "ENSG00000071564.16         True  \n",
       "ENSG00000198624.13         True  \n",
       "ENSG00000074590.13         True  \n",
       "ENSG00000196754.12         True  \n",
       "...                         ...  \n",
       "ENSG00000065328.16         True  \n",
       "ENSG00000153936.17         True  \n",
       "ENSG00000165799.5          True  \n",
       "ENSG00000124102.5          True  \n",
       "ENSG00000049283.18         True  \n",
       "\n",
       "[162 rows x 4 columns]"
      ]
     },
     "execution_count": 18,
     "metadata": {},
     "output_type": "execute_result"
    }
   ],
   "source": [
    "test_df = ttest_dataframe(member_df, all_expr_df, only_significant=True)\n",
    "test_df"
   ]
  },
  {
   "cell_type": "code",
   "execution_count": 19,
   "metadata": {},
   "outputs": [
    {
     "data": {
      "text/plain": [
       "'ENSG00000153714.6'"
      ]
     },
     "execution_count": 19,
     "metadata": {},
     "output_type": "execute_result"
    }
   ],
   "source": [
    "selected_feature = test_df.index.values[0]\n",
    "selected_feature"
   ]
  },
  {
   "cell_type": "code",
   "execution_count": 20,
   "metadata": {},
   "outputs": [
    {
     "data": {
      "image/png": "[encoded data removed]",
      "text/plain": [
       "<Figure size 500x500 with 1 Axes>"
      ]
     },
     "metadata": {},
     "output_type": "display_data"
    }
   ],
   "source": [
    "plot_expression_boxplot(selected_feature, member_df, all_expr_df)"
   ]
  }
 ],
 "metadata": {
  "kernelspec": {
   "display_name": "Python 3 (ipykernel)",
   "language": "python",
   "name": "python3"
  },
  "language_info": {
   "codemirror_mode": {
    "name": "ipython",
    "version": 3
   },
   "file_extension": ".py",
   "mimetype": "text/x-python",
   "name": "python",
   "nbconvert_exporter": "python",
   "pygments_lexer": "ipython3",
   "version": "3.11.0"
  },
  "vscode": {
   "interpreter": {
    "hash": "05a318a39bdd806c866a458e5513009c97d8e8627387c5b7a048c974669be487"
   }
  }
 },
 "nbformat": 4,
 "nbformat_minor": 4
}
