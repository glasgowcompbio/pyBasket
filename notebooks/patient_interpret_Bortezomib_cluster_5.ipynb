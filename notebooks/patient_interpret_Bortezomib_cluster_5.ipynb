{
 "cells": [
  {
   "cell_type": "markdown",
   "metadata": {
    "tags": []
   },
   "source": [
    "# GDSCv2 Analysis\n",
    "\n",
    "This notebook shows a PyMC model that incorporates basket + clustering"
   ]
  },
  {
   "cell_type": "code",
   "execution_count": 1,
   "metadata": {},
   "outputs": [],
   "source": [
    "%matplotlib inline\n",
    "\n",
    "%load_ext autoreload\n",
    "%autoreload 2"
   ]
  },
  {
   "cell_type": "code",
   "execution_count": 2,
   "metadata": {},
   "outputs": [],
   "source": [
    "import sys, os\n",
    "from os.path import exists\n",
    "\n",
    "sys.path.append('..')\n",
    "sys.path.append('.')"
   ]
  },
  {
   "cell_type": "code",
   "execution_count": 3,
   "metadata": {},
   "outputs": [],
   "source": [
    "import matplotlib.pyplot as plt\n",
    "import numpy as np\n",
    "import pandas as pd\n",
    "import seaborn as sns"
   ]
  },
  {
   "cell_type": "code",
   "execution_count": 4,
   "metadata": {},
   "outputs": [],
   "source": [
    "from pyBasket.common import load_obj"
   ]
  },
  {
   "cell_type": "markdown",
   "metadata": {
    "tags": []
   },
   "source": [
    "# Load results"
   ]
  },
  {
   "cell_type": "markdown",
   "metadata": {},
   "source": [
    "Load previously saved results"
   ]
  },
  {
   "cell_type": "code",
   "execution_count": 5,
   "metadata": {},
   "outputs": [],
   "source": [
    "file_name = 'individual_analysis_GDSC_Bortezomib_cluster_5.p'\n",
    "save_data = load_obj(file_name)"
   ]
  },
  {
   "cell_type": "markdown",
   "metadata": {},
   "source": [
    "# Any interesting data to look at?"
   ]
  },
  {
   "cell_type": "markdown",
   "metadata": {},
   "source": [
    "## Which baskets have the highest / lowest response rates?"
   ]
  },
  {
   "cell_type": "code",
   "execution_count": 6,
   "metadata": {},
   "outputs": [],
   "source": [
    "# theta_pred = np.mean(stacked_logres_nc.theta.values, axis=1)\n",
    "# idx = np.argsort(theta_pred)\n",
    "# sorted_theta_pred = theta_pred[idx]\n",
    "# sorted_basket_names = basket_names[idx]\n",
    "# sorted_theta_pred, sorted_basket_names"
   ]
  },
  {
   "cell_type": "markdown",
   "metadata": {},
   "source": [
    "## Pick top few baskets having the highest and lowest response rates"
   ]
  },
  {
   "cell_type": "code",
   "execution_count": 7,
   "metadata": {},
   "outputs": [],
   "source": [
    "# pick = 5\n",
    "# selected_names = list(sorted_basket_names[0:pick]) + list(sorted_basket_names[-pick:])\n",
    "# selected_theta = list(sorted_theta_pred[0:pick]) + list(sorted_theta_pred[-pick:])\n",
    "# selected_names, selected_theta\n",
    "# selected_df = pd.DataFrame({\n",
    "#     'tissue': selected_names,\n",
    "#     'theta': selected_theta\n",
    "# }).set_index('tissue')\n",
    "# selected_df"
   ]
  },
  {
   "cell_type": "markdown",
   "metadata": {},
   "source": [
    "## Create a dataframe for all the relevant info"
   ]
  },
  {
   "cell_type": "code",
   "execution_count": 8,
   "metadata": {},
   "outputs": [],
   "source": [
    "# selected_df = selected_df.join(data_df, how='left')\n",
    "# selected_df"
   ]
  },
  {
   "cell_type": "markdown",
   "metadata": {},
   "source": [
    "## Plot their partitions again"
   ]
  },
  {
   "cell_type": "code",
   "execution_count": 9,
   "metadata": {},
   "outputs": [],
   "source": [
    "# sns.heatmap(selected_df.iloc[:, 1:11], cmap='jet')"
   ]
  },
  {
   "cell_type": "markdown",
   "metadata": {},
   "source": [
    "## Plot inferred cluster coefficients"
   ]
  },
  {
   "cell_type": "code",
   "execution_count": 10,
   "metadata": {},
   "outputs": [],
   "source": [
    "# beta_pred = np.mean(stacked_logres_nc.beta.values, axis=1)\n",
    "# plot_df = pd.DataFrame({\n",
    "#     'cluster': [i for i in range(C)],\n",
    "#     'weight': beta_pred\n",
    "    \n",
    "# })\n",
    "# sns.barplot(plot_df, x='cluster', y='weight')"
   ]
  },
  {
   "cell_type": "markdown",
   "metadata": {},
   "source": [
    "## Check Cluster 2"
   ]
  },
  {
   "cell_type": "code",
   "execution_count": 11,
   "metadata": {},
   "outputs": [],
   "source": [
    "# query_cluster_idx = 2\n",
    "# query_cluster = 'sk_%d' % query_cluster_idx\n",
    "# query_tissues = data_df[(data_df[query_cluster] > 0)].index.values\n",
    "# query_cluster, query_tissues"
   ]
  },
  {
   "cell_type": "code",
   "execution_count": 12,
   "metadata": {},
   "outputs": [],
   "source": [
    "# expr_df_filtered.shape, df_filtered.shape, class_labels.shape, cluster_labels.shape"
   ]
  },
  {
   "cell_type": "code",
   "execution_count": 13,
   "metadata": {},
   "outputs": [],
   "source": [
    "# query_idx = np.isin(class_labels, query_tissues)\n",
    "\n",
    "# query_expr = expr_df_filtered[query_idx]\n",
    "# query_df = df_filtered[query_idx]\n",
    "# query_class_labels = class_labels[query_idx]\n",
    "# query_cluster_labels = cluster_labels[query_idx]\n",
    "\n",
    "# query_df.shape, query_expr.shape, query_class_labels.shape, query_cluster_labels.shape"
   ]
  },
  {
   "cell_type": "code",
   "execution_count": 14,
   "metadata": {},
   "outputs": [],
   "source": [
    "# pc1, pc2 = plot_PCA(query_expr, n_components=10, hue=query_cluster_labels, style=query_class_labels)"
   ]
  },
  {
   "cell_type": "code",
   "execution_count": 15,
   "metadata": {},
   "outputs": [],
   "source": [
    "# plt.figure(figsize=(10, 5))\n",
    "# g = sns.scatterplot(x=pc1, y=pc2, hue=query_df['responses'].values, style=query_class_labels, palette='Blues')\n",
    "# g.legend(loc='center left', bbox_to_anchor=(1, 0.5), ncol=1, fontsize=12)"
   ]
  },
  {
   "cell_type": "markdown",
   "metadata": {},
   "source": [
    "## Check Cluster 8"
   ]
  },
  {
   "cell_type": "code",
   "execution_count": 16,
   "metadata": {},
   "outputs": [],
   "source": [
    "# query_cluster_idx = 8\n",
    "# query_cluster = 'sk_%d' % query_cluster_idx\n",
    "# query_tissues = data_df[(data_df[query_cluster] > 0)].index.values\n",
    "# query_cluster, query_tissues"
   ]
  },
  {
   "cell_type": "code",
   "execution_count": 17,
   "metadata": {},
   "outputs": [],
   "source": [
    "# expr_df_filtered.shape, df_filtered.shape, class_labels.shape, cluster_labels.shape"
   ]
  },
  {
   "cell_type": "code",
   "execution_count": 18,
   "metadata": {},
   "outputs": [],
   "source": [
    "# query_idx = np.isin(class_labels, query_tissues)\n",
    "\n",
    "# query_expr = expr_df_filtered[query_idx]\n",
    "# query_df = df_filtered[query_idx]\n",
    "# query_class_labels = class_labels[query_idx]\n",
    "# query_cluster_labels = cluster_labels[query_idx]\n",
    "\n",
    "# query_df.shape, query_expr.shape, query_class_labels.shape, query_cluster_labels.shape"
   ]
  },
  {
   "cell_type": "code",
   "execution_count": 19,
   "metadata": {},
   "outputs": [],
   "source": [
    "# pc1, pc2 = plot_PCA(query_expr, n_components=10, hue=query_cluster_labels, style=query_class_labels)"
   ]
  },
  {
   "cell_type": "code",
   "execution_count": 20,
   "metadata": {},
   "outputs": [],
   "source": [
    "# plt.figure(figsize=(10, 5))\n",
    "# g = sns.scatterplot(x=pc1, y=pc2, hue=query_df['responses'].values, style=query_class_labels, palette='Blues')\n",
    "# g.legend(loc='center left', bbox_to_anchor=(1, 0.5), ncol=1, fontsize=12)"
   ]
  }
 ],
 "metadata": {
  "kernelspec": {
   "display_name": "Python 3 (ipykernel)",
   "language": "python",
   "name": "python3"
  },
  "language_info": {
   "codemirror_mode": {
    "name": "ipython",
    "version": 3
   },
   "file_extension": ".py",
   "mimetype": "text/x-python",
   "name": "python",
   "nbconvert_exporter": "python",
   "pygments_lexer": "ipython3",
   "version": "3.11.0"
  },
  "vscode": {
   "interpreter": {
    "hash": "05a318a39bdd806c866a458e5513009c97d8e8627387c5b7a048c974669be487"
   }
  }
 },
 "nbformat": 4,
 "nbformat_minor": 4
}
