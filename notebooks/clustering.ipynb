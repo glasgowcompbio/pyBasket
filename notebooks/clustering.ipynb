{
 "cells": [
  {
   "cell_type": "markdown",
   "metadata": {},
   "source": [
    "# Initial clustering approach\n",
    "\n",
    "This notebook demonstrates how clustering of feature vectors can be used to help improve posterior inference in basket trials."
   ]
  },
  {
   "cell_type": "code",
   "execution_count": 1,
   "metadata": {},
   "outputs": [],
   "source": [
    "%matplotlib inline\n",
    "\n",
    "%load_ext autoreload\n",
    "%autoreload 2"
   ]
  },
  {
   "cell_type": "code",
   "execution_count": 2,
   "metadata": {},
   "outputs": [],
   "source": [
    "import sys\n",
    "from os.path import exists\n",
    "\n",
    "sys.path.append('..')\n",
    "sys.path.append('.')"
   ]
  },
  {
   "cell_type": "code",
   "execution_count": 3,
   "metadata": {},
   "outputs": [],
   "source": [
    "import numpy as np\n",
    "import pandas as pd\n",
    "import arviz as az"
   ]
  },
  {
   "cell_type": "code",
   "execution_count": 4,
   "metadata": {},
   "outputs": [],
   "source": [
    "from pyBasket.env import Trial, TrueResponseSiteWithFeatures\n",
    "from pyBasket.common import DEFAULT_EFFICACY_CUTOFF, DEFAULT_FUTILITY_CUTOFF"
   ]
  },
  {
   "cell_type": "code",
   "execution_count": 5,
   "metadata": {},
   "outputs": [],
   "source": [
    "DEBUG = True"
   ]
  },
  {
   "cell_type": "code",
   "execution_count": 6,
   "metadata": {},
   "outputs": [],
   "source": [
    "num_burn_in = 1E5\n",
    "num_posterior_samples = 1E5\n",
    "num_chains = None # let pymc decide"
   ]
  },
  {
   "cell_type": "code",
   "execution_count": 7,
   "metadata": {},
   "outputs": [],
   "source": [
    "if DEBUG:\n",
    "    num_burn_in = 5E4\n",
    "    num_posterior_samples = 5E4\n",
    "    num_chains = 1"
   ]
  },
  {
   "cell_type": "markdown",
   "metadata": {
    "tags": []
   },
   "source": [
    "### Generate data"
   ]
  },
  {
   "cell_type": "markdown",
   "metadata": {},
   "source": [
    "Similar set-up to CBHM paper."
   ]
  },
  {
   "cell_type": "code",
   "execution_count": 18,
   "metadata": {},
   "outputs": [],
   "source": [
    "K = 6    # the number of groups\n",
    "p0 = 0.20 # null response rate\n",
    "p1 = 0.40 # target response rate\n",
    "\n",
    "true_response_rates = [p0, p0, p0, p1, p1, p1]\n",
    "enrollment = [10, 10]\n",
    "\n",
    "n = 100\n",
    "dim = 8\n",
    "pvals_map = {\n",
    "    p0: [1/10] * dim,\n",
    "    p1: ([0.05] * int(dim/2)) + ([0.15] * int(dim/2))\n",
    "}\n",
    "\n",
    "sites = []\n",
    "for k in range(K):\n",
    "    true_response_rate = true_response_rates[k]\n",
    "    pvals = pvals_map[true_response_rate]\n",
    "    site = TrueResponseSiteWithFeatures(k, true_response_rate, enrollment, n, pvals)\n",
    "    sites.append(site)\n",
    "\n",
    "evaluate_interim = [True, True] # evaluate every interim stage\n",
    "analysis_names = ['independent', 'hierarchical', 'bhm']"
   ]
  },
  {
   "cell_type": "code",
   "execution_count": 19,
   "metadata": {},
   "outputs": [
    {
     "data": {
      "text/plain": [
       "PatientData:\n",
       "responses [0 1 0 0 0 1 0 0 0 1]\n",
       "features\n",
       "[[10 11 14  7  3  8 13 34]\n",
       " [11  9  9 15 11 13 10 22]\n",
       " [11  5  7  8  9 12 10 38]\n",
       " [14  9  8 10 11  8 11 29]\n",
       " [ 7 13 13 13  8  9 14 23]\n",
       " [10  7 10  9 13 11 10 30]\n",
       " [10 11 10  8 10 14 11 26]\n",
       " [ 7 12 10 12 13  6 11 29]\n",
       " [11  8  9 13  9 12  9 29]\n",
       " [14  6  9  6 12 13  9 31]]"
      ]
     },
     "execution_count": 19,
     "metadata": {},
     "output_type": "execute_result"
    }
   ],
   "source": [
    "pd1a = sites[0].enroll()\n",
    "pd1a"
   ]
  },
  {
   "cell_type": "code",
   "execution_count": 20,
   "metadata": {},
   "outputs": [
    {
     "data": {
      "text/plain": [
       "PatientData:\n",
       "responses [0 0 1 1 1 0 0 0 1 1]\n",
       "features\n",
       "[[11  3  5  6 17 14 11 33]\n",
       " [ 3  4  5  2 17 21 19 29]\n",
       " [ 3  4  3  5 22 17 12 34]\n",
       " [ 8  6  5  3  8 23 18 29]\n",
       " [ 5  3  6  4 19 14 15 34]\n",
       " [ 6  8  5  3 14 11 21 32]\n",
       " [ 1  8  5  4 14 18 15 35]\n",
       " [ 3  5  4  7 16 25 13 27]\n",
       " [10  4  6  2 10 18  9 41]\n",
       " [ 6  7  4  5 17 13 17 31]]"
      ]
     },
     "execution_count": 20,
     "metadata": {},
     "output_type": "execute_result"
    }
   ],
   "source": [
    "pd2 = sites[-1].enroll()\n",
    "pd2"
   ]
  },
  {
   "cell_type": "code",
   "execution_count": 21,
   "metadata": {},
   "outputs": [],
   "source": [
    "futility_cutoff = DEFAULT_FUTILITY_CUTOFF\n",
    "efficacy_cutoff = DEFAULT_EFFICACY_CUTOFF\n",
    "early_futility_stop = True\n",
    "early_efficacy_stop = False"
   ]
  },
  {
   "cell_type": "code",
   "execution_count": 22,
   "metadata": {},
   "outputs": [],
   "source": [
    "trial = Trial(K, p0, p1, sites, evaluate_interim, \n",
    "              num_burn_in, num_posterior_samples, analysis_names, \n",
    "              futility_cutoff=futility_cutoff, efficacy_cutoff=efficacy_cutoff,\n",
    "              early_futility_stop=early_futility_stop,\n",
    "              early_efficacy_stop=early_efficacy_stop,              \n",
    "              num_chains=num_chains)"
   ]
  },
  {
   "cell_type": "code",
   "execution_count": 23,
   "metadata": {},
   "outputs": [],
   "source": [
    "# done = trial.reset()\n",
    "# while not done:\n",
    "#     done = trial.step()"
   ]
  },
  {
   "cell_type": "code",
   "execution_count": 24,
   "metadata": {},
   "outputs": [],
   "source": [
    "done = trial.reset()"
   ]
  },
  {
   "cell_type": "code",
   "execution_count": 25,
   "metadata": {},
   "outputs": [],
   "source": [
    "self = trial"
   ]
  },
  {
   "cell_type": "code",
   "execution_count": 26,
   "metadata": {},
   "outputs": [],
   "source": [
    "from pyBasket.common import DEFAULT_EFFICACY_CUTOFF, DEFAULT_FUTILITY_CUTOFF, DEFAULT_NUM_CHAINS, \\\n",
    "    GROUP_STATUS_OPEN, DEFAULT_EARLY_FUTILITY_STOP, DEFAULT_EARLY_EFFICACY_STOP, \\\n",
    "    GROUP_STATUS_EARLY_STOP_FUTILE, GROUP_STATUS_EARLY_STOP_EFFECTIVE, \\\n",
    "    GROUP_STATUS_COMPLETED_EFFECTIVE, GROUP_STATUS_COMPLETED_INEFFECTIVE"
   ]
  },
  {
   "cell_type": "code",
   "execution_count": 27,
   "metadata": {},
   "outputs": [
    {
     "name": "stdout",
     "output_type": "stream",
     "text": [
      "Analysis independent Group 0 (OPEN): 1/10\n",
      "Analysis hierarchical Group 0 (OPEN): 1/10\n",
      "Analysis bhm Group 0 (OPEN): 1/10\n",
      "\n",
      "Analysis independent Group 1 (OPEN): 1/10\n",
      "Analysis hierarchical Group 1 (OPEN): 1/10\n",
      "Analysis bhm Group 1 (OPEN): 1/10\n",
      "\n",
      "Analysis independent Group 2 (OPEN): 3/10\n",
      "Analysis hierarchical Group 2 (OPEN): 3/10\n",
      "Analysis bhm Group 2 (OPEN): 3/10\n",
      "\n",
      "Analysis independent Group 3 (OPEN): 3/10\n",
      "Analysis hierarchical Group 3 (OPEN): 3/10\n",
      "Analysis bhm Group 3 (OPEN): 3/10\n",
      "\n",
      "Analysis independent Group 4 (OPEN): 4/10\n",
      "Analysis hierarchical Group 4 (OPEN): 4/10\n",
      "Analysis bhm Group 4 (OPEN): 4/10\n",
      "\n",
      "Analysis independent Group 5 (OPEN): 5/10\n",
      "Analysis hierarchical Group 5 (OPEN): 5/10\n",
      "Analysis bhm Group 5 (OPEN): 5/10\n",
      "\n"
     ]
    }
   ],
   "source": [
    "for k in range(self.K):\n",
    "    site = self.sites[k]\n",
    "    patient_data = site.enroll()\n",
    "\n",
    "    # register new patients to the right group in each model\n",
    "    for analysis_name in self.analysis_names:\n",
    "        model = self.analyses[analysis_name]\n",
    "        group = model.groups[k]\n",
    "        if group.status == GROUP_STATUS_OPEN:\n",
    "            group.register(patient_data)\n",
    "        print('Analysis', analysis_name, group)\n",
    "    print()\n"
   ]
  },
  {
   "cell_type": "markdown",
   "metadata": {},
   "source": [
    "Generate feature matrix for 60 patients (10 each in 6 baskets)"
   ]
  },
  {
   "cell_type": "code",
   "execution_count": 37,
   "metadata": {},
   "outputs": [
    {
     "data": {
      "text/plain": [
       "((60, 8),\n",
       " array([[11,  9, 13,  9, 13, 15, 11, 19],\n",
       "        [ 7, 11, 13, 11, 11,  7,  7, 33],\n",
       "        [19,  7,  6,  9,  6,  8,  7, 38],\n",
       "        [11, 13,  8, 11,  6, 13, 10, 28],\n",
       "        [ 6, 12, 11,  8,  8, 15,  8, 32],\n",
       "        [ 7, 10, 20, 11,  9, 10,  4, 29],\n",
       "        [12,  8,  8, 11,  9,  8, 15, 29],\n",
       "        [ 8, 10, 14, 11, 10, 15, 10, 22],\n",
       "        [11, 11, 15, 14,  8, 11, 10, 20],\n",
       "        [ 9,  8, 10, 11, 14,  9, 10, 29],\n",
       "        [12, 12, 11,  6,  6, 11, 13, 29],\n",
       "        [14,  9, 10, 13,  8,  8, 11, 27],\n",
       "        [ 8, 17,  8, 10, 11,  7, 11, 28],\n",
       "        [ 6, 12,  4,  6, 12, 11, 11, 38],\n",
       "        [12, 10,  7, 11, 13, 11, 15, 21],\n",
       "        [ 9,  3,  9, 10, 15, 11,  7, 36],\n",
       "        [14, 12,  8, 12,  9,  8, 12, 25],\n",
       "        [14,  5, 11,  7, 12, 11,  6, 34],\n",
       "        [ 9,  9, 13, 11, 14,  7,  9, 28],\n",
       "        [ 8,  6, 11,  9,  7,  6, 14, 39],\n",
       "        [ 9, 10,  9,  7, 12,  9, 15, 29],\n",
       "        [15,  9,  7,  3,  9, 14, 10, 33],\n",
       "        [ 7, 10, 14, 10,  8,  9,  9, 33],\n",
       "        [ 6, 10, 13,  5,  9,  9, 10, 38],\n",
       "        [15, 12, 10,  6, 13,  9, 10, 25],\n",
       "        [ 5,  5, 11,  9, 10,  6,  9, 45],\n",
       "        [ 8,  4, 16,  9,  9, 15,  8, 31],\n",
       "        [11, 10, 15,  8,  8, 11,  8, 29],\n",
       "        [ 5,  8, 11,  9, 12, 14,  7, 34],\n",
       "        [ 8,  6, 12, 10, 12, 11, 13, 28],\n",
       "        [ 8,  4,  1,  4, 13,  9, 20, 41],\n",
       "        [ 4,  6,  6,  5, 15,  9, 14, 41],\n",
       "        [ 5,  4,  8,  9, 12, 15, 19, 28],\n",
       "        [ 1,  4,  7,  3, 22,  8, 17, 38],\n",
       "        [ 5,  2,  2,  4, 15, 12, 19, 41],\n",
       "        [ 4,  1,  4,  9, 10, 10, 12, 50],\n",
       "        [ 7,  6,  6,  2, 17, 12, 16, 34],\n",
       "        [ 4,  4,  4, 10, 16, 22, 12, 28],\n",
       "        [ 6,  5,  3,  5, 11, 16, 18, 36],\n",
       "        [ 6,  8,  1,  6, 13, 14, 17, 35],\n",
       "        [ 3,  5,  8,  5, 11, 19, 13, 36],\n",
       "        [ 6,  4,  8,  3, 14, 13, 21, 31],\n",
       "        [ 6,  8,  7,  4, 21,  8, 13, 33],\n",
       "        [ 4,  3,  5,  5, 17, 18, 15, 33],\n",
       "        [ 4,  6,  5,  5, 20, 10, 17, 33],\n",
       "        [ 6, 10,  7,  3, 22, 12, 14, 26],\n",
       "        [ 7,  3,  6,  5, 14, 19, 13, 33],\n",
       "        [ 4,  7,  6,  4, 14, 17, 19, 29],\n",
       "        [ 5,  4,  5,  5, 17, 17, 13, 34],\n",
       "        [ 6,  2,  4,  5, 10, 16, 19, 38],\n",
       "        [ 4,  6,  7,  2, 16, 20, 12, 33],\n",
       "        [ 0,  8,  4,  4, 23, 15, 18, 28],\n",
       "        [ 5,  3,  3,  8, 18, 16, 14, 33],\n",
       "        [ 4,  7,  6,  2, 12, 16, 19, 34],\n",
       "        [ 4, 11,  2,  1, 23, 11, 19, 29],\n",
       "        [ 3,  7,  6,  5, 13, 15, 19, 32],\n",
       "        [ 3,  3,  6,  4, 17, 21, 15, 31],\n",
       "        [ 6,  4,  8,  2, 17, 12, 16, 35],\n",
       "        [ 5,  4,  3,  4, 18, 18, 12, 36],\n",
       "        [ 5,  5,  2,  4, 13, 18, 13, 40]]),\n",
       " (60,),\n",
       " array([0, 0, 0, 0, 0, 0, 0, 0, 0, 0, 1, 1, 1, 1, 1, 1, 1, 1, 1, 1, 2, 2,\n",
       "        2, 2, 2, 2, 2, 2, 2, 2, 3, 3, 3, 3, 3, 3, 3, 3, 3, 3, 4, 4, 4, 4,\n",
       "        4, 4, 4, 4, 4, 4, 5, 5, 5, 5, 5, 5, 5, 5, 5, 5]))"
      ]
     },
     "execution_count": 37,
     "metadata": {},
     "output_type": "execute_result"
    }
   ],
   "source": [
    "all_features = []\n",
    "all_classes = []\n",
    "for group in model.groups:\n",
    "    features = group.features\n",
    "    all_features.append(features)   \n",
    "    \n",
    "    N = group.features.shape[0]\n",
    "    group_class = [group.idx] * N\n",
    "    all_classes.extend(group_class)\n",
    "    \n",
    "all_features = np.concatenate(all_features)\n",
    "all_classes = np.array(all_classes)\n",
    "all_features.shape, all_features, all_classes.shape, all_classes"
   ]
  },
  {
   "cell_type": "markdown",
   "metadata": {},
   "source": [
    "PCA shows 2 clusters"
   ]
  },
  {
   "cell_type": "code",
   "execution_count": 30,
   "metadata": {},
   "outputs": [
    {
     "data": {
      "text/plain": [
       "array([0.44511785, 0.67771532, 0.78325349, 0.86954752, 0.92197453])"
      ]
     },
     "execution_count": 30,
     "metadata": {},
     "output_type": "execute_result"
    }
   ],
   "source": [
    "from sklearn.decomposition import PCA\n",
    "\n",
    "pca = PCA(n_components=5)\n",
    "pcs = pca.fit_transform(all_features)\n",
    "pca.explained_variance_ratio_.cumsum()"
   ]
  },
  {
   "cell_type": "code",
   "execution_count": 31,
   "metadata": {},
   "outputs": [
    {
     "data": {
      "text/plain": [
       "<AxesSubplot: >"
      ]
     },
     "execution_count": 31,
     "metadata": {},
     "output_type": "execute_result"
    },
    {
     "data": {
      "image/png": "[encoded data removed]",
      "text/plain": [
       "<Figure size 640x480 with 1 Axes>"
      ]
     },
     "metadata": {},
     "output_type": "display_data"
    }
   ],
   "source": [
    "import seaborn as sns\n",
    "pc1_values = pcs[:,0]\n",
    "pc2_values = pcs[:,1]\n",
    "sns.scatterplot(x=pc1_values, y=pc2_values, hue=all_classes)"
   ]
  },
  {
   "cell_type": "markdown",
   "metadata": {},
   "source": [
    "Compute distance matrix"
   ]
  },
  {
   "cell_type": "code",
   "execution_count": 32,
   "metadata": {},
   "outputs": [],
   "source": [
    "import numpy as np\n",
    "from scipy.cluster.hierarchy import fclusterdata\n",
    "\n",
    "# a custom function that just computes Euclidean distance\n",
    "def mydist(p1, p2, c1, c2):\n",
    "    if c1 == c2:\n",
    "        return 0\n",
    "    diff = p1 - p2\n",
    "    return np.vdot(diff, diff) ** 0.5\n",
    "\n",
    "N = all_features.shape[0]\n",
    "dist = np.zeros((N, N))\n",
    "for i in range(N):\n",
    "    for j in range(N):\n",
    "        p1 = all_features[i]\n",
    "        p2 = all_features[j]\n",
    "        c1 = all_classes[i]\n",
    "        c2 = all_classes[j]\n",
    "        dist[i, j] = mydist(p1, p2, c1, c2)"
   ]
  },
  {
   "cell_type": "code",
   "execution_count": 33,
   "metadata": {},
   "outputs": [],
   "source": [
    "import pylab as plt"
   ]
  },
  {
   "cell_type": "code",
   "execution_count": 34,
   "metadata": {},
   "outputs": [
    {
     "data": {
      "text/plain": [
       "<matplotlib.colorbar.Colorbar at 0x16ffc05d0>"
      ]
     },
     "execution_count": 34,
     "metadata": {},
     "output_type": "execute_result"
    },
    {
     "data": {
      "image/png": "[encoded data removed]",
      "text/plain": [
       "<Figure size 480x480 with 2 Axes>"
      ]
     },
     "metadata": {},
     "output_type": "display_data"
    }
   ],
   "source": [
    "plt.matshow(dist)\n",
    "plt.colorbar()"
   ]
  },
  {
   "cell_type": "markdown",
   "metadata": {},
   "source": [
    "Hierarchical clustering"
   ]
  },
  {
   "cell_type": "code",
   "execution_count": 35,
   "metadata": {},
   "outputs": [],
   "source": [
    "from scipy.spatial.distance import squareform\n",
    "import scipy.cluster.hierarchy as shc\n",
    "\n",
    "condensed_dist = squareform(dist)\n",
    "Z = shc.linkage(condensed_dist, method='ward')"
   ]
  },
  {
   "cell_type": "code",
   "execution_count": 36,
   "metadata": {},
   "outputs": [
    {
     "data": {
      "image/png": "[encoded data removed]",
      "text/plain": [
       "<Figure size 3000x1000 with 1 Axes>"
      ]
     },
     "metadata": {},
     "output_type": "display_data"
    }
   ],
   "source": [
    "sns.set_context('poster')\n",
    "plt.figure(figsize=(30, 10))\n",
    "plt.title('Hierarchical Clustering Dendrogram')\n",
    "plt.xlabel('sample index')\n",
    "plt.ylabel('distance')\n",
    "shc.dendrogram(\n",
    "    Z,\n",
    "    leaf_rotation=90.,  # rotates the x axis labels\n",
    "    leaf_font_size=18,  # font size for the x axis labels\n",
    ")\n",
    "plt.ylim([-5, 120])\n",
    "plt.axhline(y = 60, color = 'r', linestyle = '--')\n",
    "plt.show()"
   ]
  },
  {
   "cell_type": "code",
   "execution_count": 38,
   "metadata": {},
   "outputs": [
    {
     "data": {
      "text/plain": [
       "array([1, 1, 1, 1, 1, 1, 1, 1, 1, 1, 1, 1, 1, 1, 1, 1, 1, 1, 1, 1, 1, 1,\n",
       "       1, 1, 1, 1, 1, 1, 1, 1, 2, 2, 2, 2, 2, 2, 2, 2, 2, 2, 2, 2, 2, 2,\n",
       "       2, 2, 2, 2, 2, 2, 2, 2, 2, 2, 2, 2, 2, 2, 2, 2], dtype=int32)"
      ]
     },
     "execution_count": 38,
     "metadata": {},
     "output_type": "execute_result"
    }
   ],
   "source": [
    "from scipy.cluster.hierarchy import fcluster\n",
    "\n",
    "max_d = 60\n",
    "clusters = fcluster(Z, max_d, criterion='distance')\n",
    "clusters"
   ]
  },
  {
   "cell_type": "markdown",
   "metadata": {},
   "source": [
    "Try DBScan"
   ]
  },
  {
   "cell_type": "code",
   "execution_count": null,
   "metadata": {},
   "outputs": [],
   "source": []
  },
  {
   "cell_type": "markdown",
   "metadata": {
    "tags": []
   },
   "source": [
    "### Check last results"
   ]
  },
  {
   "cell_type": "markdown",
   "metadata": {},
   "source": [
    "### Independent"
   ]
  },
  {
   "cell_type": "code",
   "execution_count": null,
   "metadata": {},
   "outputs": [],
   "source": [
    "analysis_name = analysis_names[0]\n",
    "analysis_name"
   ]
  },
  {
   "cell_type": "code",
   "execution_count": null,
   "metadata": {},
   "outputs": [],
   "source": [
    "trial.visualise_model(analysis_name)"
   ]
  },
  {
   "cell_type": "code",
   "execution_count": null,
   "metadata": {},
   "outputs": [],
   "source": [
    "trial.plot_trace(analysis_name, -1)"
   ]
  },
  {
   "cell_type": "code",
   "execution_count": null,
   "metadata": {},
   "outputs": [],
   "source": [
    "trial.plot_posterior(analysis_name, -1)"
   ]
  },
  {
   "cell_type": "code",
   "execution_count": null,
   "metadata": {},
   "outputs": [],
   "source": [
    "trial.final_report(analysis_name)"
   ]
  },
  {
   "cell_type": "markdown",
   "metadata": {},
   "source": [
    "### Hierarchical"
   ]
  },
  {
   "cell_type": "code",
   "execution_count": null,
   "metadata": {},
   "outputs": [],
   "source": [
    "analysis_name = analysis_names[1]\n",
    "analysis_name"
   ]
  },
  {
   "cell_type": "code",
   "execution_count": null,
   "metadata": {},
   "outputs": [],
   "source": [
    "trial.visualise_model(analysis_name)"
   ]
  },
  {
   "cell_type": "code",
   "execution_count": null,
   "metadata": {},
   "outputs": [],
   "source": [
    "trial.plot_trace(analysis_name, -1)"
   ]
  },
  {
   "cell_type": "code",
   "execution_count": null,
   "metadata": {},
   "outputs": [],
   "source": [
    "trial.plot_posterior(analysis_name, -1)"
   ]
  },
  {
   "cell_type": "code",
   "execution_count": null,
   "metadata": {},
   "outputs": [],
   "source": [
    "trial.final_report(analysis_name)"
   ]
  },
  {
   "cell_type": "markdown",
   "metadata": {},
   "source": [
    "### BHM"
   ]
  },
  {
   "cell_type": "code",
   "execution_count": null,
   "metadata": {},
   "outputs": [],
   "source": [
    "analysis_name = analysis_names[2]\n",
    "analysis_name"
   ]
  },
  {
   "cell_type": "code",
   "execution_count": null,
   "metadata": {},
   "outputs": [],
   "source": [
    "trial.visualise_model(analysis_name)"
   ]
  },
  {
   "cell_type": "code",
   "execution_count": null,
   "metadata": {},
   "outputs": [],
   "source": [
    "trial.plot_trace(analysis_name, -1)"
   ]
  },
  {
   "cell_type": "code",
   "execution_count": null,
   "metadata": {},
   "outputs": [],
   "source": [
    "trial.plot_posterior(analysis_name, -1)"
   ]
  },
  {
   "cell_type": "code",
   "execution_count": null,
   "metadata": {},
   "outputs": [],
   "source": [
    "trial.final_report(analysis_name)"
   ]
  }
 ],
 "metadata": {
  "kernelspec": {
   "display_name": "Python 3 (ipykernel)",
   "language": "python",
   "name": "python3"
  },
  "language_info": {
   "codemirror_mode": {
    "name": "ipython",
    "version": 3
   },
   "file_extension": ".py",
   "mimetype": "text/x-python",
   "name": "python",
   "nbconvert_exporter": "python",
   "pygments_lexer": "ipython3",
   "version": "3.11.0"
  },
  "vscode": {
   "interpreter": {
    "hash": "05a318a39bdd806c866a458e5513009c97d8e8627387c5b7a048c974669be487"
   }
  }
 },
 "nbformat": 4,
 "nbformat_minor": 4
}
